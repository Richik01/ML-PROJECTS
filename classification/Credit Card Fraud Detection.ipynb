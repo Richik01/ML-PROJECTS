{
 "cells": [
  {
   "cell_type": "code",
   "execution_count": 26,
   "id": "c17df49a",
   "metadata": {},
   "outputs": [],
   "source": [
    "import pandas as pd\n",
    "import os\n",
    "import matplotlib.pyplot as plt"
   ]
  },
  {
   "cell_type": "markdown",
   "id": "72915a53",
   "metadata": {},
   "source": [
    "### EXPLORATORY DATA ANALYSIS AND VISUALISATION\n",
    "* Loading Data\n",
    "* Removing `DATA INCONSISTENTY`\n",
    "* Feature Engineering"
   ]
  },
  {
   "cell_type": "code",
   "execution_count": 27,
   "id": "5380a74a",
   "metadata": {},
   "outputs": [],
   "source": [
    "data = pd.read_csv(\"data\\creditcard.csv\")"
   ]
  },
  {
   "cell_type": "code",
   "execution_count": 28,
   "id": "0e1f49e9",
   "metadata": {},
   "outputs": [
    {
     "data": {
      "text/html": [
       "<div>\n",
       "<style scoped>\n",
       "    .dataframe tbody tr th:only-of-type {\n",
       "        vertical-align: middle;\n",
       "    }\n",
       "\n",
       "    .dataframe tbody tr th {\n",
       "        vertical-align: top;\n",
       "    }\n",
       "\n",
       "    .dataframe thead th {\n",
       "        text-align: right;\n",
       "    }\n",
       "</style>\n",
       "<table border=\"1\" class=\"dataframe\">\n",
       "  <thead>\n",
       "    <tr style=\"text-align: right;\">\n",
       "      <th></th>\n",
       "      <th>Time</th>\n",
       "      <th>V1</th>\n",
       "      <th>V2</th>\n",
       "      <th>V3</th>\n",
       "      <th>V4</th>\n",
       "      <th>V5</th>\n",
       "      <th>V6</th>\n",
       "      <th>V7</th>\n",
       "      <th>V8</th>\n",
       "      <th>V9</th>\n",
       "      <th>...</th>\n",
       "      <th>V21</th>\n",
       "      <th>V22</th>\n",
       "      <th>V23</th>\n",
       "      <th>V24</th>\n",
       "      <th>V25</th>\n",
       "      <th>V26</th>\n",
       "      <th>V27</th>\n",
       "      <th>V28</th>\n",
       "      <th>Amount</th>\n",
       "      <th>Class</th>\n",
       "    </tr>\n",
       "  </thead>\n",
       "  <tbody>\n",
       "    <tr>\n",
       "      <th>0</th>\n",
       "      <td>0.0</td>\n",
       "      <td>-1.359807</td>\n",
       "      <td>-0.072781</td>\n",
       "      <td>2.536347</td>\n",
       "      <td>1.378155</td>\n",
       "      <td>-0.338321</td>\n",
       "      <td>0.462388</td>\n",
       "      <td>0.239599</td>\n",
       "      <td>0.098698</td>\n",
       "      <td>0.363787</td>\n",
       "      <td>...</td>\n",
       "      <td>-0.018307</td>\n",
       "      <td>0.277838</td>\n",
       "      <td>-0.110474</td>\n",
       "      <td>0.066928</td>\n",
       "      <td>0.128539</td>\n",
       "      <td>-0.189115</td>\n",
       "      <td>0.133558</td>\n",
       "      <td>-0.021053</td>\n",
       "      <td>149.62</td>\n",
       "      <td>0</td>\n",
       "    </tr>\n",
       "    <tr>\n",
       "      <th>1</th>\n",
       "      <td>0.0</td>\n",
       "      <td>1.191857</td>\n",
       "      <td>0.266151</td>\n",
       "      <td>0.166480</td>\n",
       "      <td>0.448154</td>\n",
       "      <td>0.060018</td>\n",
       "      <td>-0.082361</td>\n",
       "      <td>-0.078803</td>\n",
       "      <td>0.085102</td>\n",
       "      <td>-0.255425</td>\n",
       "      <td>...</td>\n",
       "      <td>-0.225775</td>\n",
       "      <td>-0.638672</td>\n",
       "      <td>0.101288</td>\n",
       "      <td>-0.339846</td>\n",
       "      <td>0.167170</td>\n",
       "      <td>0.125895</td>\n",
       "      <td>-0.008983</td>\n",
       "      <td>0.014724</td>\n",
       "      <td>2.69</td>\n",
       "      <td>0</td>\n",
       "    </tr>\n",
       "    <tr>\n",
       "      <th>2</th>\n",
       "      <td>1.0</td>\n",
       "      <td>-1.358354</td>\n",
       "      <td>-1.340163</td>\n",
       "      <td>1.773209</td>\n",
       "      <td>0.379780</td>\n",
       "      <td>-0.503198</td>\n",
       "      <td>1.800499</td>\n",
       "      <td>0.791461</td>\n",
       "      <td>0.247676</td>\n",
       "      <td>-1.514654</td>\n",
       "      <td>...</td>\n",
       "      <td>0.247998</td>\n",
       "      <td>0.771679</td>\n",
       "      <td>0.909412</td>\n",
       "      <td>-0.689281</td>\n",
       "      <td>-0.327642</td>\n",
       "      <td>-0.139097</td>\n",
       "      <td>-0.055353</td>\n",
       "      <td>-0.059752</td>\n",
       "      <td>378.66</td>\n",
       "      <td>0</td>\n",
       "    </tr>\n",
       "    <tr>\n",
       "      <th>3</th>\n",
       "      <td>1.0</td>\n",
       "      <td>-0.966272</td>\n",
       "      <td>-0.185226</td>\n",
       "      <td>1.792993</td>\n",
       "      <td>-0.863291</td>\n",
       "      <td>-0.010309</td>\n",
       "      <td>1.247203</td>\n",
       "      <td>0.237609</td>\n",
       "      <td>0.377436</td>\n",
       "      <td>-1.387024</td>\n",
       "      <td>...</td>\n",
       "      <td>-0.108300</td>\n",
       "      <td>0.005274</td>\n",
       "      <td>-0.190321</td>\n",
       "      <td>-1.175575</td>\n",
       "      <td>0.647376</td>\n",
       "      <td>-0.221929</td>\n",
       "      <td>0.062723</td>\n",
       "      <td>0.061458</td>\n",
       "      <td>123.50</td>\n",
       "      <td>0</td>\n",
       "    </tr>\n",
       "    <tr>\n",
       "      <th>4</th>\n",
       "      <td>2.0</td>\n",
       "      <td>-1.158233</td>\n",
       "      <td>0.877737</td>\n",
       "      <td>1.548718</td>\n",
       "      <td>0.403034</td>\n",
       "      <td>-0.407193</td>\n",
       "      <td>0.095921</td>\n",
       "      <td>0.592941</td>\n",
       "      <td>-0.270533</td>\n",
       "      <td>0.817739</td>\n",
       "      <td>...</td>\n",
       "      <td>-0.009431</td>\n",
       "      <td>0.798278</td>\n",
       "      <td>-0.137458</td>\n",
       "      <td>0.141267</td>\n",
       "      <td>-0.206010</td>\n",
       "      <td>0.502292</td>\n",
       "      <td>0.219422</td>\n",
       "      <td>0.215153</td>\n",
       "      <td>69.99</td>\n",
       "      <td>0</td>\n",
       "    </tr>\n",
       "  </tbody>\n",
       "</table>\n",
       "<p>5 rows × 31 columns</p>\n",
       "</div>"
      ],
      "text/plain": [
       "   Time        V1        V2        V3        V4        V5        V6        V7  \\\n",
       "0   0.0 -1.359807 -0.072781  2.536347  1.378155 -0.338321  0.462388  0.239599   \n",
       "1   0.0  1.191857  0.266151  0.166480  0.448154  0.060018 -0.082361 -0.078803   \n",
       "2   1.0 -1.358354 -1.340163  1.773209  0.379780 -0.503198  1.800499  0.791461   \n",
       "3   1.0 -0.966272 -0.185226  1.792993 -0.863291 -0.010309  1.247203  0.237609   \n",
       "4   2.0 -1.158233  0.877737  1.548718  0.403034 -0.407193  0.095921  0.592941   \n",
       "\n",
       "         V8        V9  ...       V21       V22       V23       V24       V25  \\\n",
       "0  0.098698  0.363787  ... -0.018307  0.277838 -0.110474  0.066928  0.128539   \n",
       "1  0.085102 -0.255425  ... -0.225775 -0.638672  0.101288 -0.339846  0.167170   \n",
       "2  0.247676 -1.514654  ...  0.247998  0.771679  0.909412 -0.689281 -0.327642   \n",
       "3  0.377436 -1.387024  ... -0.108300  0.005274 -0.190321 -1.175575  0.647376   \n",
       "4 -0.270533  0.817739  ... -0.009431  0.798278 -0.137458  0.141267 -0.206010   \n",
       "\n",
       "        V26       V27       V28  Amount  Class  \n",
       "0 -0.189115  0.133558 -0.021053  149.62      0  \n",
       "1  0.125895 -0.008983  0.014724    2.69      0  \n",
       "2 -0.139097 -0.055353 -0.059752  378.66      0  \n",
       "3 -0.221929  0.062723  0.061458  123.50      0  \n",
       "4  0.502292  0.219422  0.215153   69.99      0  \n",
       "\n",
       "[5 rows x 31 columns]"
      ]
     },
     "execution_count": 28,
     "metadata": {},
     "output_type": "execute_result"
    }
   ],
   "source": [
    "data.head()"
   ]
  },
  {
   "cell_type": "code",
   "execution_count": 29,
   "id": "fb93ea8a",
   "metadata": {},
   "outputs": [
    {
     "name": "stdout",
     "output_type": "stream",
     "text": [
      "Number of columns: 31\n",
      "Number of rows: 284807\n"
     ]
    }
   ],
   "source": [
    "print(\"Number of columns: {}\".format(data.shape[1]))\n",
    "print(\"Number of rows: {}\".format(data.shape[0]))"
   ]
  },
  {
   "cell_type": "code",
   "execution_count": 30,
   "id": "c6d0ecca",
   "metadata": {},
   "outputs": [
    {
     "name": "stdout",
     "output_type": "stream",
     "text": [
      "<class 'pandas.core.frame.DataFrame'>\n",
      "RangeIndex: 284807 entries, 0 to 284806\n",
      "Data columns (total 31 columns):\n",
      " #   Column  Non-Null Count   Dtype  \n",
      "---  ------  --------------   -----  \n",
      " 0   Time    284807 non-null  float64\n",
      " 1   V1      284807 non-null  float64\n",
      " 2   V2      284807 non-null  float64\n",
      " 3   V3      284807 non-null  float64\n",
      " 4   V4      284807 non-null  float64\n",
      " 5   V5      284807 non-null  float64\n",
      " 6   V6      284807 non-null  float64\n",
      " 7   V7      284807 non-null  float64\n",
      " 8   V8      284807 non-null  float64\n",
      " 9   V9      284807 non-null  float64\n",
      " 10  V10     284807 non-null  float64\n",
      " 11  V11     284807 non-null  float64\n",
      " 12  V12     284807 non-null  float64\n",
      " 13  V13     284807 non-null  float64\n",
      " 14  V14     284807 non-null  float64\n",
      " 15  V15     284807 non-null  float64\n",
      " 16  V16     284807 non-null  float64\n",
      " 17  V17     284807 non-null  float64\n",
      " 18  V18     284807 non-null  float64\n",
      " 19  V19     284807 non-null  float64\n",
      " 20  V20     284807 non-null  float64\n",
      " 21  V21     284807 non-null  float64\n",
      " 22  V22     284807 non-null  float64\n",
      " 23  V23     284807 non-null  float64\n",
      " 24  V24     284807 non-null  float64\n",
      " 25  V25     284807 non-null  float64\n",
      " 26  V26     284807 non-null  float64\n",
      " 27  V27     284807 non-null  float64\n",
      " 28  V28     284807 non-null  float64\n",
      " 29  Amount  284807 non-null  float64\n",
      " 30  Class   284807 non-null  int64  \n",
      "dtypes: float64(30), int64(1)\n",
      "memory usage: 67.4 MB\n"
     ]
    }
   ],
   "source": [
    "data.info()"
   ]
  },
  {
   "cell_type": "code",
   "execution_count": 31,
   "id": "1041acda",
   "metadata": {},
   "outputs": [
    {
     "data": {
      "text/plain": [
       "False"
      ]
     },
     "execution_count": 31,
     "metadata": {},
     "output_type": "execute_result"
    }
   ],
   "source": [
    "data.isnull().sum().any()"
   ]
  },
  {
   "cell_type": "code",
   "execution_count": 32,
   "id": "107f3996",
   "metadata": {},
   "outputs": [
    {
     "data": {
      "text/html": [
       "<div>\n",
       "<style scoped>\n",
       "    .dataframe tbody tr th:only-of-type {\n",
       "        vertical-align: middle;\n",
       "    }\n",
       "\n",
       "    .dataframe tbody tr th {\n",
       "        vertical-align: top;\n",
       "    }\n",
       "\n",
       "    .dataframe thead th {\n",
       "        text-align: right;\n",
       "    }\n",
       "</style>\n",
       "<table border=\"1\" class=\"dataframe\">\n",
       "  <thead>\n",
       "    <tr style=\"text-align: right;\">\n",
       "      <th></th>\n",
       "      <th>Time</th>\n",
       "      <th>V1</th>\n",
       "      <th>V2</th>\n",
       "      <th>V3</th>\n",
       "      <th>V4</th>\n",
       "      <th>V5</th>\n",
       "      <th>V6</th>\n",
       "      <th>V7</th>\n",
       "      <th>V8</th>\n",
       "      <th>V9</th>\n",
       "      <th>...</th>\n",
       "      <th>V21</th>\n",
       "      <th>V22</th>\n",
       "      <th>V23</th>\n",
       "      <th>V24</th>\n",
       "      <th>V25</th>\n",
       "      <th>V26</th>\n",
       "      <th>V27</th>\n",
       "      <th>V28</th>\n",
       "      <th>Amount</th>\n",
       "      <th>Class</th>\n",
       "    </tr>\n",
       "  </thead>\n",
       "  <tbody>\n",
       "    <tr>\n",
       "      <th>count</th>\n",
       "      <td>284807.000000</td>\n",
       "      <td>2.848070e+05</td>\n",
       "      <td>2.848070e+05</td>\n",
       "      <td>2.848070e+05</td>\n",
       "      <td>2.848070e+05</td>\n",
       "      <td>2.848070e+05</td>\n",
       "      <td>2.848070e+05</td>\n",
       "      <td>2.848070e+05</td>\n",
       "      <td>2.848070e+05</td>\n",
       "      <td>2.848070e+05</td>\n",
       "      <td>...</td>\n",
       "      <td>2.848070e+05</td>\n",
       "      <td>2.848070e+05</td>\n",
       "      <td>2.848070e+05</td>\n",
       "      <td>2.848070e+05</td>\n",
       "      <td>2.848070e+05</td>\n",
       "      <td>2.848070e+05</td>\n",
       "      <td>2.848070e+05</td>\n",
       "      <td>2.848070e+05</td>\n",
       "      <td>284807.000000</td>\n",
       "      <td>284807.000000</td>\n",
       "    </tr>\n",
       "    <tr>\n",
       "      <th>mean</th>\n",
       "      <td>94813.859575</td>\n",
       "      <td>1.168375e-15</td>\n",
       "      <td>3.416908e-16</td>\n",
       "      <td>-1.379537e-15</td>\n",
       "      <td>2.074095e-15</td>\n",
       "      <td>9.604066e-16</td>\n",
       "      <td>1.487313e-15</td>\n",
       "      <td>-5.556467e-16</td>\n",
       "      <td>1.213481e-16</td>\n",
       "      <td>-2.406331e-15</td>\n",
       "      <td>...</td>\n",
       "      <td>1.654067e-16</td>\n",
       "      <td>-3.568593e-16</td>\n",
       "      <td>2.578648e-16</td>\n",
       "      <td>4.473266e-15</td>\n",
       "      <td>5.340915e-16</td>\n",
       "      <td>1.683437e-15</td>\n",
       "      <td>-3.660091e-16</td>\n",
       "      <td>-1.227390e-16</td>\n",
       "      <td>88.349619</td>\n",
       "      <td>0.001727</td>\n",
       "    </tr>\n",
       "    <tr>\n",
       "      <th>std</th>\n",
       "      <td>47488.145955</td>\n",
       "      <td>1.958696e+00</td>\n",
       "      <td>1.651309e+00</td>\n",
       "      <td>1.516255e+00</td>\n",
       "      <td>1.415869e+00</td>\n",
       "      <td>1.380247e+00</td>\n",
       "      <td>1.332271e+00</td>\n",
       "      <td>1.237094e+00</td>\n",
       "      <td>1.194353e+00</td>\n",
       "      <td>1.098632e+00</td>\n",
       "      <td>...</td>\n",
       "      <td>7.345240e-01</td>\n",
       "      <td>7.257016e-01</td>\n",
       "      <td>6.244603e-01</td>\n",
       "      <td>6.056471e-01</td>\n",
       "      <td>5.212781e-01</td>\n",
       "      <td>4.822270e-01</td>\n",
       "      <td>4.036325e-01</td>\n",
       "      <td>3.300833e-01</td>\n",
       "      <td>250.120109</td>\n",
       "      <td>0.041527</td>\n",
       "    </tr>\n",
       "    <tr>\n",
       "      <th>min</th>\n",
       "      <td>0.000000</td>\n",
       "      <td>-5.640751e+01</td>\n",
       "      <td>-7.271573e+01</td>\n",
       "      <td>-4.832559e+01</td>\n",
       "      <td>-5.683171e+00</td>\n",
       "      <td>-1.137433e+02</td>\n",
       "      <td>-2.616051e+01</td>\n",
       "      <td>-4.355724e+01</td>\n",
       "      <td>-7.321672e+01</td>\n",
       "      <td>-1.343407e+01</td>\n",
       "      <td>...</td>\n",
       "      <td>-3.483038e+01</td>\n",
       "      <td>-1.093314e+01</td>\n",
       "      <td>-4.480774e+01</td>\n",
       "      <td>-2.836627e+00</td>\n",
       "      <td>-1.029540e+01</td>\n",
       "      <td>-2.604551e+00</td>\n",
       "      <td>-2.256568e+01</td>\n",
       "      <td>-1.543008e+01</td>\n",
       "      <td>0.000000</td>\n",
       "      <td>0.000000</td>\n",
       "    </tr>\n",
       "    <tr>\n",
       "      <th>25%</th>\n",
       "      <td>54201.500000</td>\n",
       "      <td>-9.203734e-01</td>\n",
       "      <td>-5.985499e-01</td>\n",
       "      <td>-8.903648e-01</td>\n",
       "      <td>-8.486401e-01</td>\n",
       "      <td>-6.915971e-01</td>\n",
       "      <td>-7.682956e-01</td>\n",
       "      <td>-5.540759e-01</td>\n",
       "      <td>-2.086297e-01</td>\n",
       "      <td>-6.430976e-01</td>\n",
       "      <td>...</td>\n",
       "      <td>-2.283949e-01</td>\n",
       "      <td>-5.423504e-01</td>\n",
       "      <td>-1.618463e-01</td>\n",
       "      <td>-3.545861e-01</td>\n",
       "      <td>-3.171451e-01</td>\n",
       "      <td>-3.269839e-01</td>\n",
       "      <td>-7.083953e-02</td>\n",
       "      <td>-5.295979e-02</td>\n",
       "      <td>5.600000</td>\n",
       "      <td>0.000000</td>\n",
       "    </tr>\n",
       "    <tr>\n",
       "      <th>50%</th>\n",
       "      <td>84692.000000</td>\n",
       "      <td>1.810880e-02</td>\n",
       "      <td>6.548556e-02</td>\n",
       "      <td>1.798463e-01</td>\n",
       "      <td>-1.984653e-02</td>\n",
       "      <td>-5.433583e-02</td>\n",
       "      <td>-2.741871e-01</td>\n",
       "      <td>4.010308e-02</td>\n",
       "      <td>2.235804e-02</td>\n",
       "      <td>-5.142873e-02</td>\n",
       "      <td>...</td>\n",
       "      <td>-2.945017e-02</td>\n",
       "      <td>6.781943e-03</td>\n",
       "      <td>-1.119293e-02</td>\n",
       "      <td>4.097606e-02</td>\n",
       "      <td>1.659350e-02</td>\n",
       "      <td>-5.213911e-02</td>\n",
       "      <td>1.342146e-03</td>\n",
       "      <td>1.124383e-02</td>\n",
       "      <td>22.000000</td>\n",
       "      <td>0.000000</td>\n",
       "    </tr>\n",
       "    <tr>\n",
       "      <th>75%</th>\n",
       "      <td>139320.500000</td>\n",
       "      <td>1.315642e+00</td>\n",
       "      <td>8.037239e-01</td>\n",
       "      <td>1.027196e+00</td>\n",
       "      <td>7.433413e-01</td>\n",
       "      <td>6.119264e-01</td>\n",
       "      <td>3.985649e-01</td>\n",
       "      <td>5.704361e-01</td>\n",
       "      <td>3.273459e-01</td>\n",
       "      <td>5.971390e-01</td>\n",
       "      <td>...</td>\n",
       "      <td>1.863772e-01</td>\n",
       "      <td>5.285536e-01</td>\n",
       "      <td>1.476421e-01</td>\n",
       "      <td>4.395266e-01</td>\n",
       "      <td>3.507156e-01</td>\n",
       "      <td>2.409522e-01</td>\n",
       "      <td>9.104512e-02</td>\n",
       "      <td>7.827995e-02</td>\n",
       "      <td>77.165000</td>\n",
       "      <td>0.000000</td>\n",
       "    </tr>\n",
       "    <tr>\n",
       "      <th>max</th>\n",
       "      <td>172792.000000</td>\n",
       "      <td>2.454930e+00</td>\n",
       "      <td>2.205773e+01</td>\n",
       "      <td>9.382558e+00</td>\n",
       "      <td>1.687534e+01</td>\n",
       "      <td>3.480167e+01</td>\n",
       "      <td>7.330163e+01</td>\n",
       "      <td>1.205895e+02</td>\n",
       "      <td>2.000721e+01</td>\n",
       "      <td>1.559499e+01</td>\n",
       "      <td>...</td>\n",
       "      <td>2.720284e+01</td>\n",
       "      <td>1.050309e+01</td>\n",
       "      <td>2.252841e+01</td>\n",
       "      <td>4.584549e+00</td>\n",
       "      <td>7.519589e+00</td>\n",
       "      <td>3.517346e+00</td>\n",
       "      <td>3.161220e+01</td>\n",
       "      <td>3.384781e+01</td>\n",
       "      <td>25691.160000</td>\n",
       "      <td>1.000000</td>\n",
       "    </tr>\n",
       "  </tbody>\n",
       "</table>\n",
       "<p>8 rows × 31 columns</p>\n",
       "</div>"
      ],
      "text/plain": [
       "                Time            V1            V2            V3            V4  \\\n",
       "count  284807.000000  2.848070e+05  2.848070e+05  2.848070e+05  2.848070e+05   \n",
       "mean    94813.859575  1.168375e-15  3.416908e-16 -1.379537e-15  2.074095e-15   \n",
       "std     47488.145955  1.958696e+00  1.651309e+00  1.516255e+00  1.415869e+00   \n",
       "min         0.000000 -5.640751e+01 -7.271573e+01 -4.832559e+01 -5.683171e+00   \n",
       "25%     54201.500000 -9.203734e-01 -5.985499e-01 -8.903648e-01 -8.486401e-01   \n",
       "50%     84692.000000  1.810880e-02  6.548556e-02  1.798463e-01 -1.984653e-02   \n",
       "75%    139320.500000  1.315642e+00  8.037239e-01  1.027196e+00  7.433413e-01   \n",
       "max    172792.000000  2.454930e+00  2.205773e+01  9.382558e+00  1.687534e+01   \n",
       "\n",
       "                 V5            V6            V7            V8            V9  \\\n",
       "count  2.848070e+05  2.848070e+05  2.848070e+05  2.848070e+05  2.848070e+05   \n",
       "mean   9.604066e-16  1.487313e-15 -5.556467e-16  1.213481e-16 -2.406331e-15   \n",
       "std    1.380247e+00  1.332271e+00  1.237094e+00  1.194353e+00  1.098632e+00   \n",
       "min   -1.137433e+02 -2.616051e+01 -4.355724e+01 -7.321672e+01 -1.343407e+01   \n",
       "25%   -6.915971e-01 -7.682956e-01 -5.540759e-01 -2.086297e-01 -6.430976e-01   \n",
       "50%   -5.433583e-02 -2.741871e-01  4.010308e-02  2.235804e-02 -5.142873e-02   \n",
       "75%    6.119264e-01  3.985649e-01  5.704361e-01  3.273459e-01  5.971390e-01   \n",
       "max    3.480167e+01  7.330163e+01  1.205895e+02  2.000721e+01  1.559499e+01   \n",
       "\n",
       "       ...           V21           V22           V23           V24  \\\n",
       "count  ...  2.848070e+05  2.848070e+05  2.848070e+05  2.848070e+05   \n",
       "mean   ...  1.654067e-16 -3.568593e-16  2.578648e-16  4.473266e-15   \n",
       "std    ...  7.345240e-01  7.257016e-01  6.244603e-01  6.056471e-01   \n",
       "min    ... -3.483038e+01 -1.093314e+01 -4.480774e+01 -2.836627e+00   \n",
       "25%    ... -2.283949e-01 -5.423504e-01 -1.618463e-01 -3.545861e-01   \n",
       "50%    ... -2.945017e-02  6.781943e-03 -1.119293e-02  4.097606e-02   \n",
       "75%    ...  1.863772e-01  5.285536e-01  1.476421e-01  4.395266e-01   \n",
       "max    ...  2.720284e+01  1.050309e+01  2.252841e+01  4.584549e+00   \n",
       "\n",
       "                V25           V26           V27           V28         Amount  \\\n",
       "count  2.848070e+05  2.848070e+05  2.848070e+05  2.848070e+05  284807.000000   \n",
       "mean   5.340915e-16  1.683437e-15 -3.660091e-16 -1.227390e-16      88.349619   \n",
       "std    5.212781e-01  4.822270e-01  4.036325e-01  3.300833e-01     250.120109   \n",
       "min   -1.029540e+01 -2.604551e+00 -2.256568e+01 -1.543008e+01       0.000000   \n",
       "25%   -3.171451e-01 -3.269839e-01 -7.083953e-02 -5.295979e-02       5.600000   \n",
       "50%    1.659350e-02 -5.213911e-02  1.342146e-03  1.124383e-02      22.000000   \n",
       "75%    3.507156e-01  2.409522e-01  9.104512e-02  7.827995e-02      77.165000   \n",
       "max    7.519589e+00  3.517346e+00  3.161220e+01  3.384781e+01   25691.160000   \n",
       "\n",
       "               Class  \n",
       "count  284807.000000  \n",
       "mean        0.001727  \n",
       "std         0.041527  \n",
       "min         0.000000  \n",
       "25%         0.000000  \n",
       "50%         0.000000  \n",
       "75%         0.000000  \n",
       "max         1.000000  \n",
       "\n",
       "[8 rows x 31 columns]"
      ]
     },
     "execution_count": 32,
     "metadata": {},
     "output_type": "execute_result"
    }
   ],
   "source": [
    "data.describe()"
   ]
  },
  {
   "cell_type": "code",
   "execution_count": 33,
   "id": "e9240ab3",
   "metadata": {},
   "outputs": [
    {
     "data": {
      "image/png": "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",
      "text/plain": [
       "<Figure size 640x480 with 1 Axes>"
      ]
     },
     "metadata": {},
     "output_type": "display_data"
    }
   ],
   "source": [
    "class_counts = data['Class'].value_counts()\n",
    "\n",
    "plt.bar(class_counts.index, class_counts.values)\n",
    "plt.xlabel('Class')\n",
    "plt.ylabel('Count')\n",
    "plt.title('Count of Each Class')\n",
    "plt.show()"
   ]
  },
  {
   "cell_type": "code",
   "execution_count": 34,
   "id": "5c62cf96",
   "metadata": {},
   "outputs": [
    {
     "data": {
      "image/png": "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",
      "text/plain": [
       "<Figure size 1500x800 with 4 Axes>"
      ]
     },
     "metadata": {},
     "output_type": "display_data"
    }
   ],
   "source": [
    "fig, ((ax1, ax2), (ax3, ax4)) = plt.subplots(2, 2, figsize=(15, 8))\n",
    "ax1.hist(data['Time'][data['Class'] == 1], bins=15, color='skyblue')\n",
    "ax1.set_title('Fraud - Time')\n",
    "ax2.hist(data['Time'][data['Class'] == 0], bins=15, color='lightgreen')\n",
    "ax2.set_title('Non Fraud - Time')\n",
    "ax3.hist(data['Amount'][data['Class'] == 1], bins=5, color='salmon')\n",
    "ax3.set_title('Fraud - Amount')\n",
    "ax4.hist(data['Amount'][data['Class'] == 0], bins=5, color='lightcoral')\n",
    "ax4.set_title('Non Fraud - Amount')\n",
    "plt.tight_layout()\n",
    "plt.show()\n"
   ]
  },
  {
   "cell_type": "code",
   "execution_count": 35,
   "id": "736c85c9",
   "metadata": {},
   "outputs": [
    {
     "data": {
      "image/png": "iVBORw0KGgoAAAANSUhEUgAABdIAAAMWCAYAAAD1X3Q/AAAAOXRFWHRTb2Z0d2FyZQBNYXRwbG90bGliIHZlcnNpb24zLjkuMiwgaHR0cHM6Ly9tYXRwbG90bGliLm9yZy8hTgPZAAAACXBIWXMAAA9hAAAPYQGoP6dpAACA8UlEQVR4nOz9e5zdVX0v/r/27LnkRi6QpBmGhIshjMotXBIbtCDYgtGCaC1WapEUo0UiPZ7Ww1GTSrxr+R4VehE0Cj3n1HqsVNPfiBIuKmATAwqIJjFcyhCGZhKSkPvM7Nm/P3BGNxk2k5BxT8jz+XjkYWattT/7vddsN5NXVt6fQrlcLgcAAAAAABhQXa0LAAAAAACA4UyQDgAAAAAAVQjSAQAAAACgCkE6AAAAAABUIUgHAAAAAIAqBOkAAAAAAFCFIB0AAAAAAKoQpAMAAAAAQBWCdAAAAAAAqEKQDgAAL2Ef+chHUigUcuedd9bk+b/61a+mUCjkq1/9asX4UUcdlaOOOqomNfWp9d4AAHDgEKQDADBkPv7xj6dQKKRQKGT16tW1LqemHnvssRQKhbzzne/c68eeddZZ/ftYKBRSX1+fCRMmpLW1NX/8x3+cr3zlK9m2bdv+LzrJO9/5zhQKhTz22GNDcv2h9HwhPgAA7K36WhcAAMBLU7lczpe+9KUUCoWUy+XccMMN+du//dtal3VAu+SSS3LUUUelXC5n69ateeSRR7Js2bL8v//3//LBD34wX/7ylzN37tyKx1xxxRV529velmnTptWk5gsvvDCvetWr0tzcXJPnr6bWewMAwIFDkA4AwJD43ve+l8ceeyzvfOc7c8stt+TGG2/MJz7xiTQ2Nta6tAPWO9/5zpx11lkVY7t27co111yTRYsW5cILL8ytt96a3/u93+ufnzhxYiZOnPhbrvTXxo0bl3HjxtXs+aup9d4AAHDg0NoFAIAhccMNNyRJ3vWud+Xiiy/Ohg0bcvPNNw+49jd7Vf/zP/9zTj311IwaNSqHH3543v/+92f37t1Jkttvvz1nnXVWxo4dmwkTJuQd73hHNm7cOOA177333rzlLW/J5MmT09TUlCOPPDKXX355Ojo69ljb1zplIC/U43v79u3567/+60ybNi1NTU2ZPn16Pv3pT6dcLle8vqOPPjpJcuONN1a0aXmxbUdGjBiRD33oQ/nwhz+crq6uXHnllRXzz9cH/Ic//GH+8A//MEcccUSampoyZcqUvOpVr8rVV1/dv6ZQKOTGG29Mkhx99NH9Nf9mb/O+vevq6srixYtz3HHHpampqb+FzQu1V9myZUuuuOKKtLS0ZMSIEXnFK16RL3zhCxX7lyR33nlnCoVCPvKRjwx4nef2XD/rrLNy6aWXJkkuvfTSij3va1NTrUf6bbfdlvPOOy+HHnpompqaMmPGjFx11VXZsmXLHmv79qCnpyef+MQncuyxx6apqSlTp07N//gf/yNdXV0D1gwAwIHDiXQAAPa7//qv/8q3v/3tzJgxI3PmzMnYsWNzzTXX5Prrr89FF130vI+79tpr853vfCdvetObctZZZ+V73/te/tf/+l95+umnc8EFF+Rtb3tb3vCGN2T+/Pm555578r//9//Ohg0b8p3vfKfiOv/+7/+et7zlLSmXy/mjP/qjHHnkkbn33nvzD//wD/nWt76Vu+66qz/YfjG6u7tz7rnn5sknn8zrX//61NfX59/+7d9y1VVXZdeuXfmbv/mbJM8GrZs3b87nP//5nHTSSXnTm97Uf42TTz75RdeRJH/1V3+Vz372s/npT3+ahx56KK985Sufd+0tt9ySN7zhDRk7dmzOP//8tLS05Omnn84vfvGL/P3f/31/3X/zN3+Tf/u3f8v999+fK6+8MuPHj0+S/v/9TW95y1vy4x//OK9//evzpje9KZMnT37Bmru6uvK6170umzdvztve9rZ0dXXlX//1X3PllVdm9erV+bu/+7t92ovk2dP748ePz7e+9a1ccMEFFfs8UP2/6Ytf/GL+4i/+IqNHj85b3/rWTJ48OXfeeWc+/elPZ+nSpbn77rsHvMbb3/72/PCHP8zrX//6jB07Nm1tbfnMZz6T9evX5ytf+co+vxYAAGpPkA4AwH73la98Jd3d3f2nko8//viceuqpueOOO7J27dpMnz59wMctW7Ys9957b17+8pcnSXbv3p1TTjkl//RP/5SlS5fme9/7Xs4888wkSW9vb84999zccsst+elPf9oflG7bti2XXHJJenp6cuedd+Y1r3lN//U//elP56qrrsq73/3ufO9733vRr/PJJ5/MSSedlFtvvTUjR45M8mz4PGPGjPyv//W/8sEPfjANDQ0566yzctRRR+Xzn/98Tj755Oc9Vf1iHHLIITn11FNz1113ZcWKFVWD9BtuuCG9vb258847c9JJJ1XMbdiwof/3H/nIR/LYY4/l/vvvz1/+5V9WnPh+rv/8z//Mz372s71qldLR0ZFjjjkmP/vZz9LU1JQkufrqq3P66afn7//+73PRRRdVtKnZG33vvW9961t505veNOibvP7nf/5n3ve+92XMmDFZsWJFWltb++cuv/zy/MM//EM+8IEP5Prrr9/jsQ8//HAeeuihHHrooUmevdnuSSedlJtuuimf/OQnM2XKlH16LQAA1J7WLgAA7Fd9Nxmtq6vLn/3Zn/WPv/Od7+y/6ejzed/73tcfoidJU1NTLrroovT29uYNb3hDf4ieJHV1dfnTP/3TJMn999/fP/6tb30rTz/9dC666KKKED1J/vt//+856qijcuutt+bxxx9/0a81Sb7whS/0h+hJMnny5FxwwQXZsmVLVq9evV+eY7BaWlqSJJ2dnYNa/5t199nXnuEf/ehH9+mxn/zkJ/tD9CQ59NBDs3DhwiSpySnu//2//3e6urpyxRVXVIToybPB+CGHHJJ/+qd/6m839Js+/elP94foSTJ69OhcfPHF6e3tzcqVK4e8dgAAho4gHQCA/er222/Pww8/nN///d/vD3aTZ9teNDY25qtf/Wq6u7sHfOxpp522x9jhhx+eJDn11FP3mOu7/hNPPNE/dt999yVJzj777D3W19fX959w/slPfjLYl/S8xo0bN+Dp+qlTpyZJNm3a9KKfY2/09RV/vn7vfS6++OIkyezZs/Oe97wn//Iv/1Kxh/ti1qxZe/2Y+vr6zJkzZ4/xvhuq7o/v0d6q9v6ZMGFCZs6cmV27dmXVqlV7zA/0/q3VewEAgP1LkA4AwH7V1/Liua00Dj300PzhH/5h1q9fn29961sDPnbcuHF7jNXX17/g3G8G8303g2xubh7wOfrGN2/eXOVVDM7z9druq6tUKr3o59gbTz75ZJJk0qRJVde9+c1vzr//+79n5syZWbJkSd72trdl6tSpOe2003Lrrbfu03PvS9uSiRMnplgsPu+1Brqx51B7Me+fgd4PtXovAACwfwnSAQDYbzo7O/Nv//ZvSZI/+ZM/SaFQqPj1r//6r0kyYH/p/aUvcH/qqacGnO/o6KhYlzzbJiZJenp69li/PwL334atW7fm3nvvTfLsSfMX8oY3vCG33357Nm3alNtuuy3/7b/9tzz00EN54xvfmJ///Od7/fwvdAp+IBs2bBgwYO773g32e5Tsv+/Tvrx/AAB46XOzUQAA9psbb7wxXV1dOfXUU/tv/vlc3/72t7Ns2bI8+uijOfroo/d7DTNnzkyS3HnnnfnzP//zirmenp788Ic/TJKccsop/eMTJkxIkrS3t+9R0/7qbd138nqoTiZ/9rOfzc6dO3PKKadU9Jl/IaNHj87ZZ5+ds88+OxMmTMiiRYvyne98J694xSuGvO6enp7cc889e/Syv/POO5P8+nuZVH6Pnmvt2rXZsmXLHifC96X2mTNn5pvf/GbuvPPOnHPOORVzmzdvzk9/+tOMGDFir/YYAIADnxPpAADsN303Ev37v//7fOlLXxrw17vf/e7+G5IOhTe96U059NBD88///M/5j//4j4q5z33uc3n00Ufzute9LtOmTesf7+vv/dwbod52223553/+5/1S14QJE1IoFPbbTU777Nq1K5/4xCfy8Y9/PI2Njfn85z//go/5wQ9+MODJ7v/6r/9KkowaNap/7LDDDkuS/V53n//5P/9nxY07n3766XzsYx9Lklx66aX9462trRk7dmy+9a1vZf369f3jO3fuzPve974Br70vtf/pn/5pGhoacu2112bt2rUVcwsXLswzzzyTP/3TP624QSoAAC99TqQDALBf3HnnnVmzZk1OOOGEqjee/PM///N8/OMfz1e+8pVcffXV/T2k95cxY8ZkyZIleetb35ozzzwzb33rWzNt2rTce++9+d73vpcpU6bki1/8YsVjLr300nz2s5/NJz/5ydx///15xStekTVr1uQ73/lOLrzwwv6WNC+2rtmzZ+eHP/xhLr744syYMSPFYjHnn39+TjzxxEFd46tf/Wr/ae2tW7fmkUceyQ9+8IM8/fTTaW5uzpIlS/LqV7/6Ba/zvve9L+vWrcsZZ5yRo446Ko2Njbn33ntz++2358gjj8zb3va2/rXnnHNOPvvZz+Zd73pX3vKWt+SQQw7J+PHjc8UVV+zTPvym5ubm7N69O8cff3zOP//8dHd35xvf+EY6Ojpy+eWX998YNkkaGhpy5ZVX5qMf/WhmzpyZCy+8MD09Pbn11ltz+OGH99+U9jf97u/+bkaNGpXPfe5z2bhxY3/v9QULFjxva5ajjjoqn/vc5/Le9743p5xySv74j/84kyZNyve///386Ec/Smtraz796U+/6NcOAMCBRZAOAMB+0Xea+7LLLqu67qijjsrrXve63HrrrVm6dGkuvPDC/V7LBRdckLvvvjuf+MQn8t3vfjdbtmzJlClT8p73vCcLFy7cI3SdPHlyvv/97+ev//qv84Mf/CDf//73+2+8+eijj+6XID1J/umf/in/7b/9t9xyyy3553/+55TL5RxxxBGDDtJvvPHGJM+2LBkzZkymTJmS173udXn961+ft771rRk9evSgrvPBD34wN998c1auXJlly5alrq4u06ZNywc/+MH85V/+ZX8blSQ599xzc8011+SGG27I5z73uXR1deXII4/cL0F6Y2Njli1blg9+8IP52te+lg0bNuSYY47JVVddlQULFuyx/uqrr86oUaNyww035Prrr8+UKVPytre9LR/5yEf6W9H8pgkTJuRf//Vfc/XVV+erX/1qtm/fnuTZU+fVepxffvnlmT59ev72b/82//qv/5odO3Zk6tSp+eu//ut88IMffN6bzAIA8NJVKJfL5VoXAQAAAAAAw5Ue6QAAAAAAUIUgHQAAAAAAqhCkAwAAAABAFXt1s9Gvf/3r+cY3vlExdvjhh+dzn/tckqSrqys33XRT7rnnnnR3d+ekk07KZZddVnEzng0bNuSGG27IQw89lBEjRuTMM8/M29/+9hSLxRf9YgAAAAAAYH/bqyA9SaZOnZqFCxf2f11X9+tD7TfeeGPuu+++vP/978+oUaPy5S9/Oddcc00++tGPJkl6e3vzyU9+MuPHj8/HPvaxbNq0Kdddd12KxWLe/va374eXAwAAAAAA+9det3apq6vL+PHj+3+NHTs2SbJjx47cfvvtueSSS3L88cfnmGOOyeWXX57Vq1dnzZo1SZL7778/TzzxRBYsWJCjjjoqM2fOzEUXXZTvfve76enp2b+vDAAAAAAA9oO9DtKfeuqpvPvd784VV1yRL3zhC9mwYUOS5JFHHkmpVMoJJ5zQv7alpSUTJ07sD9LXrFmTadOmVbR6Ofnkk7Nz5860t7c/73N2d3dnx44dFb+6u7v3tnQAAAAAANhre9Xa5dhjj83ll1+eww8/PJs2bco3vvGNLFq0KNdcc002b96c+vr6jB49uuIx48aNy+bNm5MkmzdvrgjR++b75p7PzTffXNGb/YwzzsiVV165N6UDAAAAAMA+2asgfebMmf2/P/LII/uD9R/96EdpbGzc78X1ufDCC/PGN76x/+tCoZAk2bRpk5YwADVy7rnnDnrtd7/73SGsBAAADgyFQiETJ07Mhg0bUi6Xa10OwEGvvr4+EyZMGNzaF/NEo0ePzuGHH56nnnoqJ554Ynp6erJ9+/aKU+lbtmzpP4U+fvz4rF27tuIaW7Zs6Z97Pg0NDWloaNhjvKenR4sXgBr5yU9+Mui1PqsBAODXBwO7u7sF6QAHmL3ukf6bdu3alaeeeirjx4/PMccck2KxmAcffLB//sknn8yGDRsyY8aMJMmMGTPy+OOP94fnSfLAAw9k5MiROeKII15MKQAAAAAAMCT26kT6TTfdlNNOOy0TJ07Mpk2b8vWvfz11dXV59atfnVGjRuXss8/OTTfdlDFjxmTUqFFZsmRJZsyY0R+kn3TSSTniiCNy3XXX5eKLL87mzZvzta99Leeee+6AJ84BAAAAAKDWCuW9+LdEn/vc5/KLX/wiW7duzdixY9Pa2pq3ve1tmTJlSpKkq6srN910U+6+++709PTkpJNOymWXXVbRtqWzszNf+tKX8tBDD6WpqSlnnnlmLr744hSLxb0uvrOzU7sAgBppaWkZ9Np169YNYSUAAHBgKBQKaW5uTkdHh9YuAMNAQ0NDJk2aNKi1exWkDzeCdIDaEaQDAMDeEaQDDC97E6S/qB7pAAAAAADwUidIBwAAAACAKgTpAAAAAABQRX2tCwAAAAB4qSuVSlmxYkW6urrS2NiYWbNmpVgs1rosAAZJkA4AAAAwhNra2rJ48eK0t7f3j02dOjWLFi3K3Llza1gZAIOltQsAAADAEGlra8v8+fPT2tqapUuXZuvWrVm6dGlaW1szf/78tLW11bpEAAahUC6Xy7UuYl91dnamu7u71mUAHJRaWloGvXbdunVDWAkAAAxPpVIpZ5xxRlpbW7NkyZIUi8U0Nzeno6MjpVIp8+bNy+rVq3PXXXdp8wJQAw0NDZk0adKg1jqRDgAAADAEli9fnvb29ixYsCB1dZURTF1dXa644oo8/vjjWb58eY0qBGCwBOkAAAAAQ2D9+vVJktbW1gHn+8b71gEwfAnSAQAAAIbA5MmTkySrVq0acL5vvG8dAMOXIB0AAABgCMyePTtTp07Ntddem97e3oq53t7eXHfddZk2bVpmz55dowoBGCxBOgAAAMAQKBaLWbRoUZYtW5Z58+Zl5cqV2bp1a1auXJl58+Zl2bJlWbhwoRuNAhwACuVyuVzrIvZVZ2dnuru7a10GwEGppaVl0GvXrVs3hJUAAMDw1tbWlsWLF6e9vb1/bNq0aVm4cGHmzp1bw8oADm4NDQ2ZNGnSoNYK0gHYJ4J0AAAYvFKplBUrVqSrqyuNjY2ZNWuWk+gANbY3QXr9ENcCAAAAcNArFouZM2dOmpub09HRkQP4XCPAQUmPdAAAAAAAqMKJdAAAAIAhprULwIFNkA4AAAAwhAa62ejUqVOzaNEiNxsFOEBo7QIAAAAwRNra2jJ//vy0trZm6dKl2bp1a5YuXZrW1tbMnz8/bW1ttS4RgEEolA/gu1t0dnamu7u71mUAHJRaWloGvXbdunVDWAkAAAxPpVIpZ5xxRlpbW7NkyZIUi8X+m42WSqXMmzcvq1evzl133aXNC0ANNDQ0ZNKkSYNa60Q6AAAAwBBYvnx52tvbs2DBgtTVVUYwdXV1ueKKK/L4449n+fLlNaoQgMESpAMAAAAMgfXr1ydJWltbB5zvG+9bB8DwJUgHAAAAGAKTJ09OkqxatWrA+b7xvnUADF+CdAAAAIAhMHv27EydOjXXXnttent7K+Z6e3tz3XXXZdq0aZk9e3aNKgRgsATpAAAAAEOgWCxm0aJFWbZsWebNm5eVK1dm69atWblyZebNm5dly5Zl4cKFbjQKcAAolMvlcq2L2FednZ3p7u6udRkAB6WWlpZBr123bt0QVgIAAMNbW1tbFi9enPb29v6xadOmZeHChZk7d24NKwM4uDU0NGTSpEmDWitIB2CfCNIBAGDwSqVSVqxYka6urjQ2NmbWrFlOogPU2N4E6fVDXAsAAADAQa9YLGbOnDlpbm5OR0dHDuBzjQAHJT3SAQAAAACgCkE6AAAAAABUIUgHAAAAAIAqBOkAAAAAAFCFIB0AAAAAAKoQpAMAAAAAQBWCdAAAAAAAqEKQDgAAAAAAVQjSAQAAAACgCkE6AAAAAABUIUgHAAAAAIAqBOkAAAAAAFCFIB0AAAAAAKoQpAMAAAAAQBWCdAAAAAAAqEKQDgAAAAAAVQjSAQAAAACgCkE6AAAAAABUIUgHAAAAAIAqBOkAAAAAAFBFfa0LAAAAAHipK5VKWbFiRbq6utLY2JhZs2alWCzWuiwABkmQDgAAADCE2trasnjx4rS3t/ePTZ06NYsWLcrcuXNrWBkAg6W1CwAAAMAQaWtry/z589Pa2pqlS5dm69atWbp0aVpbWzN//vy0tbXVukQABqFQLpfLtS5iX3V2dqa7u7vWZQAclFpaWga9dt26dUNYCQAADE+lUilnnHFGWltbs2TJkhSLxTQ3N6ejoyOlUinz5s3L6tWrc9ddd2nzAlADDQ0NmTRp0qDWOpEOAAAAMASWL1+e9vb2LFiwIHV1lRFMXV1drrjiijz++ONZvnx5jSoEYLAE6QAAAABDYP369UmS1tbWAef7xvvWATB8udkoAAAAwBCYPHlykmTVqlU5+eSTs2LFinR1daWxsTGzZs3KqlWrKtYBMHzpkQ7APtEjHQAAquvrkT5hwoRs2rQp7e3t/XNTp07NhAkTsnnzZj3SAWpEj3QAAACAGisWi3njG9+YBx54IDt37sxnPvOZPPnkk/nMZz6TnTt35oEHHsgb3vAGITrAAcCJdAD2iRPpAABQXd+J9EMPPTQbN27ME0880T83derUHHroodm0aZMT6QA1sjcn0vVIBwAAABgCy5cvT3t7e/7u7/5uwB7pP/nJT3LBBRdk+fLlmTNnTq3LBaAKrV0AAAAAhsD69euTJK2trQPO9433rQNg+HIiHQAAAGAITJ48OUmyZMmS/J//83/2uNnoxRdfXLEOgOHLiXQAAACAITB79uwcdthh+dSnPpXjjjsuS5cuzdatW7N06dIcd9xx+dSnPpWJEydm9uzZtS4VgBcgSAcAAAD4LSiXy/2/ADiwCNIBAAAAhsDy5cuzcePGXHXVVVm9enXOP//8jB07Nueff37WrFmTq666Khs2bMjy5ctrXSoAL0CPdAAAAIAh0HcT0Xnz5uXyyy/PihUr0tXVlcbGxsyaNSs7d+7Mpz71KTcbBTgACNIBAAAAhkDfTURXrVqVU089NXPmzElzc3M6OjpSLpezatWqinUADF9auwAAAAAMgdmzZ2fq1Km59tpr09vbWzHX29ub6667LtOmTXOzUYADgCAdAAAAYAgUi8UsWrQoy5Yty7x587Jy5cps3bo1K1euzLx587Js2bIsXLgwxWKx1qUC8AIK5QP4VtGdnZ3p7u6udRkAB6WWlpZBr123bt0QVgIAAMNbW1tbFi9enPb29v6xadOmZeHChZk7d24NKwM4uDU0NGTSpEmDWitIB2CfCNIBAGDwurq6cuONN2bDhg2ZOHFiLrnkkjQ2Nta6LICD2t4E6W42CgAAADCEBjqR/uUvfzmLFi1yIh3gAKFHOgAAAMAQaWtry/z589Pa2pqlS5dm69atWbp0aVpbWzN//vy0tbXVukQABkFrFwD2idYuAABQXalUyhlnnJHW1tYsWbIkxWIxzc3N6ejoSKlUyrx587J69ercddddbjgKUAN709rFiXQAAACAIbB8+fK0t7dnwYIFqaurjGDq6upyxRVX5PHHH8/y5ctrVCEAgyVIBwAAABgC69evT5K0trYOON833rcOgOFLkA4AAAAwBCZPnpwkWbVq1YDzfeN96wAYvgTpAAAAAENg9uzZmTp1aq699tr09vZWzPX29ua6667LtGnTMnv27BpVCMBgCdIBAAAAhkCxWMyiRYuybNmyzJs3LytXrszWrVuzcuXKzJs3L8uWLcvChQvdaBTgAFAol8vlWhexrzo7O9Pd3V3rMgAOSi0tLYNeu27duiGsBAAAhre2trYsXrw47e3t/WPTpk3LwoULM3fu3BpWBnBwa2hoyKRJkwa1VpAOwD4RpAMAwOCVSqWsWLEiXV1daWxszKxZs5xEB6ixvQnS64e4FgAAAICDXrFYzJw5c9Lc3JyOjo4cwOcaAQ5KeqQDAAAAAEAVgnQAAAAAAKhCkA4AAAAAAFUI0gEAAAAAoApBOgAAAAAAVCFIBwAAAACAKgTpAAAAAABQhSAdAAAAAACqEKQDAAAAAEAVgnQAAAAAAKhCkA4AAAAAAFUI0gEAAAAAoApBOgAAAAAAVCFIBwAAAACAKuprXQAAAADAS12pVMqKFSvS1dWVxsbGzJo1K8VisdZlATBIgnQAAACAIdTW1pbFixenvb29f2zq1KlZtGhR5s6dW8PKABgsrV0AAAAAhkhbW1vmz5+f1tbWLF26NFu3bs3SpUvT2tqa+fPnp62trdYlAjAIhXK5XK51Efuqs7Mz3d3dtS4D4KDU0tIy6LXr1q0bwkoAAGB4KpVKOeOMM9La2polS5akWCymubk5HR0dKZVKmTdvXlavXp277rpLmxeAGmhoaMikSZMGtdaJdAAAAIAhsHz58rS3t2fBggWpq6uMYOrq6nLFFVfk8ccfz/Lly2tUIQCDJUgHAAAAGALr169PkrS2tg443zfetw6A4UuQDgAAADAEJk+enCRZtWrVgPN9433rABi+BOkAAAAAQ2D27NmZOnVqrr322vT29lbM9fb25rrrrsu0adMye/bsGlUIwGAJ0gEAAACGQLFYzKJFi7Js2bLMmzcvK1euzNatW7Ny5crMmzcvy5Yty8KFC91oFOAAUCiXy+VaF7GvOjs7093dXesyAA5KLS0tg167bt26IawEAACGt7a2tixevDjt7e39Y9OmTcvChQszd+7cGlYGcHBraGjIpEmTBrVWkA7APhGkAwDA4JVKpaxYsSJdXV1pbGzMrFmznEQHqLG9CdLrh7gWAAAAgINesVjMnDlz0tzcnI6OjhzA5xoBDkp6pAMAAAAAQBWCdAAAAAAAqEKQDgAAAAAAVQjSAQAAAACgCkE6AAAAAABUIUgHAAAAAIAqBOkAAAAAAFCFIB0AAAAAAKoQpAMAAAAAQBWCdAAAAAAAqEKQDgAAAAAAVQjSAQAAAACgCkE6AAAAAABUIUgHAAAAAIAqBOkAAAAAAFCFIB0AAAAAAKoQpAMAAAAAQBWCdAAAAAAAqEKQDgAAAAAAVQjSAQAAAACgCkE6AAAAAABUIUgHAAAAAIAqBOkAAAAAAFCFIB0AAAAAAKoQpAMAAAAAQBWCdAAAAAAAqKL+xTz43/7t3/J//+//zdy5c/POd74zSdLV1ZWbbrop99xzT7q7u3PSSSflsssuy/jx4/sft2HDhtxwww156KGHMmLEiJx55pl5+9vfnmKx+GLKAQAAAACA/W6fT6SvXbs2t956a4488siK8RtvvDH33ntv3v/+9+fqq6/Opk2bcs011/TP9/b25pOf/GR6enrysY99LO9973tz55135l/+5V/2/VUAAAAAAMAQ2acgfdeuXbn22mvz7ne/O6NHj+4f37FjR26//fZccsklOf7443PMMcfk8ssvz+rVq7NmzZokyf33358nnngiCxYsyFFHHZWZM2fmoosuyne/+9309PTsn1cFAAAAAAD7yT4F6V/60pcyc+bMnHjiiRXjjzzySEqlUk444YT+sZaWlkycOLE/SF+zZk2mTZtW0erl5JNPzs6dO9Pe3r4v5QAAAAAAwJDZ6x7pd999dx599NF88pOf3GNu8+bNqa+vrzilniTjxo3L5s2b+9f8ZojeN983N5Du7u50d3f3f10oFDJy5Mj+3wMwvPmsBgCAX/9c7OdjgAPPXgXpGzZsyFe/+tV8+MMfTmNj41DVtIebb7453/jGN/q/Pvroo/PpT386kyZN+q3VAMC+a25urnUJAAAwbEyZMqXWJQCwl/YqSH/kkUeyZcuW/I//8T/6x3p7e/OLX/wit9xySz70oQ+lp6cn27dvrziVvmXLlv5T6OPHj8/atWsrrrtly5b+uYFceOGFeeMb39j/dd/f3HZ2duqrDnAA6OjoqHUJAABQc4VCIVOmTMlTTz2Vcrlc63IADnr19fWDPqy9V0H6CSeckL/927+tGPuHf/iHHH744bngggsyceLEFIvFPPjgg3nVq16VJHnyySezYcOGzJgxI0kyY8aMfPOb38yWLVv6W7o88MADGTlyZI444ogBn7ehoSENDQ0DzvkPD8Dw57MaAAB+rVwu+xkZ4ACzV0H6yJEjM23atIqxpqamHHLIIf3jZ599dm666aaMGTMmo0aNypIlSzJjxoz+IP2kk07KEUcckeuuuy4XX3xxNm/enK997Ws599xznzcsBwAAAACAWtnrm42+kEsuuSSFQiHXXHNNenp6ctJJJ+Wyyy7rn6+rq8tVV12VL33pS/nwhz+cpqamnHnmmbnooov2dykAAAAAAPCiFcoH8L8l6uzsTHd3d63LADgotbS0DHrtunXrhrASAAA4MBQKhTQ3N6ejo0NrF4BhoKGhYdA90uuGuBYAAAAAADigCdIBAAAAAKAKQToAAAAAAFSx3282CgAAAEClUqmUFStWpKurK42NjZk1a1aKxWKtywJgkATpAAAAAEOora0tixcvTnt7e//Y1KlTs2jRosydO7eGlQEwWFq7AAAAAAyRtra2zJ8/P62trVm6dGm2bt2apUuXprW1NfPnz09bW1utSwRgEArlcrlc6yL2VWdnZ7q7u2tdBsBBqaWlZdBr161bN4SVAADA8FQqlXLGGWektbU1S5YsSbFYTHNzczo6OlIqlTJv3rysXr06d911lzYvADXQ0NCQSZMmDWqtE+kAAAAAQ2D58uVpb2/PggULUldXGcHU1dXliiuuyOOPP57ly5fXqEIABkuQDgAAADAE1q9fnyRpbW0dcL5vvG8dAMOXIB0AAABgCEyePDlJsmrVqgHn+8b71gEwfAnSAQAAAIbA7NmzM3Xq1Fx77bXp7e2tmOvt7c11112XadOmZfbs2TWqEIDBEqQDAAAADIFisZhFixZl2bJlmTdvXlauXJmtW7dm5cqVmTdvXpYtW5aFCxe60SjAAaBQLpfLtS5iX3V2dqa7u7vWZQAclFpaWga9dt26dUNYCQAADG9tbW1ZvHhx2tvb+8emTZuWhQsXZu7cuTWsDODg1tDQkEmTJg1qrSAdgH0iSAcAgMErlUpZsWJFurq60tjYmFmzZjmJDlBjexOk1w9xLQAAAAAHvWKxmDlz5qS5uTkdHR05gM81AhyU9EgHAAAAAIAqBOkAAAAAAFCFIB0AAAAAAKoQpAMAAAAAQBWCdAAAAAAAqEKQDgAAAAAAVQjSAQAAAACgCkE6AAAAAABUIUgHAAAAAIAqBOkAAAAAAFCFIB0AAAAAAKoQpAMAAAAAQBWCdAAAAAAAqEKQDgAAAAAAVQjSAQAAAACgCkE6AAAAAABUIUgHAAAAAIAqBOkAAAAAAFCFIB0AAAAAAKoQpAMAAAAAQBWCdAAAAAAAqEKQDgAAAAAAVQjSAQAAAACgCkE6AAAAAABUIUgHAAAAAIAqBOkAAAAAAFBFfa0LAAAAAHipK5VKWbFiRbq6utLY2JhZs2alWCzWuiwABkmQDgAAADCE2trasnjx4rS3t/ePTZ06NYsWLcrcuXNrWBkAgyVIBwAAABgibW1tmT9/fs4555z8xV/8RaZMmZKnnnoqt99+e+bPn5/rr79emA5wACiUy+VyrYvYV52dnenu7q51GQAHpZaWlkGvXbdu3RBWAgAAw1OpVMoZZ5yRCRMmZNOmTXucSJ8wYUI2b96cu+66S5sXgBpoaGjIpEmTBrXWzUYBAAAAhsDy5cvT3t6eBx98MK2trVm6dGm2bt2apUuXprW1NQ8++GAef/zxLF++vNalAvACBOkAAAAAQ+Cpp55Kkrz2ta/NkiVLcuqpp2bMmDE59dRTs2TJkpx11lkV6wAYvvRIBwAAABgCGzduTJKcd955KZfLueeee9LV1ZXGxsbMmjUr5513Xu64447+dQAMX4J0AAAAgCFw2GGHJUluvPHGXHvttXv0SB87dmzFOgCGL61dAAAAAIbAlClTkiQPPfRQdu7cmc985jN58skn85nPfCY7d+7MQw89VLEOgOGrUC6Xy7UuYl91dnamu7u71mUAHJRaWloGvXbdunVDWAkAAAxPXV1dmT59ekaPHp0xY8bkySef7J9raWnJ1q1bs3379qxduzaNjY01rBTg4NTQ0JBJkyYNaq0T6QAAAABDYOXKlSmVSnnmmWfy9NNPV8xt3LgxzzzzTEqlUlauXFmjCgEYLEE6AAAAwBBYv359kqRQKOwxVygU+sf71gEwfLnZKAAAAMAQ6LuJ6Omnn56vf/3rWblyZbq6utLY2JjTTjstb33rW/PjH//YzUYBDgCCdAAAAIAh0HfivFwup1gsZs6cOWlubk5HR0dKpdIe6wAYvgTpAAAAAENgw4YNSZIf//jHufTSS/Pa1742U6ZMyVNPPZU77rgjP/7xjyvWATB8CdIBAAAAhsDkyZOTJBdeeGG+/e1vZ9myZf1zxWIxF154YW6++eb+dQAMX4J0AAAAgCEwe/bsHHbYYbn55ptzzjnn5Jxzzuk/kX7bbbfl5ptvzsSJEzN79uxalwrAC6irdQEAAAAAL3WFQiHHH398/uiP/ijHH3+8vugABxhBOgAAAMAQWL58eTZu3Jirrroqq1evzvnnn5+xY8fm/PPPz5o1a3LVVVdlw4YNWb58ea1LBeAFaO0CAAAAMATWr1+fJJk3b14uv/zyrFixIl1dXWlsbMysWbOyc+fOfOpTn+pfB8DwJUgHAAAAGAJ9NxFdtWpVTj311MyZMyfNzc3p6OhIuVzOqlWrKtYBMHxp7QIAAAAwBGbPnp2pU6fm2muvTW9vb8Vcb29vrrvuukybNs3NRgEOAE6kAwAAAAyBYrGYRYsWZf78+bn00kvz2te+NlOmTMlTTz2VO+64I7fddluuv/76FIvFWpcKwAsQpAMAAAAMkblz5+Y973lPrr/++ixbtqx/vFgs5j3veU/mzp1bw+oAGCxBOgAAAMAQaWtryz/+4z/mnHPOydlnn91/Iv3222/PP/7jP+aUU04RpgMcAArlcrlc6yL2VWdnZ7q7u2tdBsBBqaWlZdBr161bN4SVAADA8FQqlXLGGWektbU1N9xwQ1auXJmurq40NjbmtNNOy7ve9a6sXr06d911l/YuADXQ0NCQSZMmDWqtE+kAAAAAQ2D58uVpb2/PxRdfnNe85jVpb2/vn5s6dWouvvji3HrrrVm+fHnmzJlTw0oBeCGCdAAAAIAhsH79+iTJpz71qbzuda/LX/zFX1S0dvnUpz5VsQ6A4UuQDgAAADAEJk6cmCR52cteltWrV1fcbHTq1Kl52ctelocffrh/HQDDV12tCwAAAAB4Keq7Ld3DDz+c4447LkuXLs3WrVuzdOnSHHfccXn44Ycr1gEwfAnSAQAAAIZAZ2dnxdflcrn/V7V1AAw/gnQAAACAIbBx48YkyTve8Y6sXr06559/fsaOHZvzzz8/a9asyTve8Y6KdQAMX3qkAwAAAAyBww47LEnyxBNP5Ic//GFWrlyZrq6uNDY25rTTTsull15asQ6A4cuJdAAAAIAhMGXKlCTJHXfckXe9611pbGzMG9/4xjQ2NuZd73pX7rjjjop1AAxfhfIBfEeLzs7OdHd317oMgINSS0vLoNeuW7duCCsBAIDhqVQq5Ywzzsihhx6ajRs35oknnuifmzp1ag499NBs2rQpd911V4rFYg0rBTg4NTQ0ZNKkSYNaq7ULAAAAwBAoFotZtGhR5s+fn7PPPjvnnntuisViSqVSHnvssdx+++25/vrrhegABwBBOgAAAMAQmTt3bt7znvfk+uuvT6lU6h8vFot5z3vek7lz59awOgAGS5AOAAAAMETa2tryj//4jznnnHNy9tlnZ8qUKXnqqady++235x//8R9zyimnCNMBDgB6pAOwT/RIBwCA6vp6pLe2tmbJkiUpFotpbm5OR0dHSqVS5s2bl9WrV+uRDlAje9MjvW6IawEAAAA4KC1fvjzt7e1ZsGBB6uoqI5i6urpcccUVefzxx7N8+fIaVQjAYAnSAQAAAIbA+vXrkyStra0DzveN960DYPgSpAMAAAAMgcmTJydJVq1aNeB833jfOgCGL0E6AAAAwBCYPXt2pk6dmmuvvTa9vb0Vc729vbnuuusybdq0zJ49u0YVAjBYgnQAAACAIVAsFrNo0aIsW7Ys8+bNy8qVK7N169asXLky8+bNy7Jly7Jw4UI3GgU4ABTK5XK51kXsq87OznR3d9e6DICDUktLy6DXrlu3bggrAQCA4a2trS2LFy9Oe3t7/9i0adOycOHCzJ07t4aVARzcGhoaMmnSpEGtFaQDsE8E6QAAMHilUikrVqxIV1dXGhsbM2vWLCfRAWpsb4L0+iGuBQAAAOCgVywWM2fOnDQ3N6ejoyMH8LlGgIOSHukAAAAAAFCFIB0AAAAAAKoQpAMAAAAAQBWCdAAAAAAAqEKQDgAAAAAAVQjSAQAAAACgCkE6AAAAAABUIUgHAAAAAIAqBOkAAAAAAFCFIB0AAAAAAKqor3UBAAAAAC91pVIpK1asSFdXVxobGzNr1qwUi8ValwXAIAnSAQAAAIZQW1tbFi9enPb29v6xqVOnZtGiRZk7d24NKwNgsLR2AQAAABgibW1tmT9/fjo7OyvGOzs7M3/+/LS1tdWoMgD2hiAdAAAAYAiUSqVcddVVKZfLefWrX52lS5dm69atWbp0aV796lenXC7nf/7P/5lSqVTrUgF4AYJ0AAAAgCHwox/9KBs3bszpp5+er3zlKzn11FMzZsyYnHrqqfnKV76S008/PRs2bMiPfvSjWpcKwAsQpAMAAAAMgXvuuSdJ8ld/9Vepq6uMYOrq6vL+97+/Yh0Aw5cgHQAAAGAIFQqFvRoHYPgRpAMAAAAMgd/93d9Nkvzt3/5tdu3aleuvvz4LFizI9ddfn127duWaa66pWAfA8FUol8vlWhexrzo7O9Pd3V3rMgAOSi0tLYNeu27duiGsBAAAhqdSqZSZM2dm48aNKRQK+c0Ipu/riRMn5r777kuxWKxhpQAHp4aGhkyaNGlQa51IBwAAABgCxWIxp512WpLkuecY+74+9dRThegABwBBOgAAAMAQ6Orqyq233lp1za233pqurq7fUkUA7Kv6WhcAAAAA8FL0la98Jb29vUmSc845J+ecc06mTJmSp556Krfddltuu+229Pb25itf+Ure/e5317haAKpxIh0AAABgCCxfvjxJcvLJJ+f6669PV1dX7rvvvnR1deX666/PSSedVLEOgOHLiXQAAACAIbBz584kSW9vb2bMmJFSqdQ/99GPfjSveMUrKtYBMHw5kQ4AAAAwBE444YQkyQMPPJDx48fns5/9bDo6OvLZz34248ePz4MPPlixDoDhS5AOAAAAMATmzJnT//tCoZByuZze3t6Uy+UUCoUB1wEwPAnSAQAAAIbA6tWr+3+/YcOGfOADH0hLS0s+8IEPZOPGjQOuA2B4EqQDAAAADIH29vb+3zc1NVXMNTY2DrgOgOFJkA4AAAAwBI488sgkyTve8Y5MmjSpYm7y5Ml5xzveUbEOgOGrUC6Xy7UuYl91dnamu7u71mUAHJRaWloGvXbdunVDWAkAAAxPXV1dmT59ekaPHp3Ro0eno6Ojf665uTnbt2/P9u3bs3bt2ooT6gD8djQ0NOzxF53Px4l0AAAAgCHQ2NiY173udXnmmWcqQvQk6ejoyDPPPJPXve51QnSAA4AgHQAAAGAIlEqlrFy5suqae++9N6VS6bdUEQD7qr7WBQAAAAC8FN1zzz3ZuHFjkuTss8/OMccck7q6uvT29uaRRx7J7bffng0bNuSee+7Ja17zmhpXC0A1gnQAAACAIXD33XcnSU499dTceOONKRaLaW5uTkdHR0qlUt70pjfl3nvvzd133y1IBxjmtHYBAAAAGAJPPvlkkuRNb3pT6uoqI5i6urqcf/75FesAGL4E6QAAAABDoKWlJUly8803p7e3t2Kut7c33/rWtyrWATB8CdIBAAAAhsAZZ5yRJLnvvvty6aWXZuXKldm6dWtWrlyZSy+9NPfdd1/FOgCGr0K5XC7Xuoh91dnZme7u7lqXAXBQ2ptTM+vWrRvCSgAAYHgqlUqZOXNmNm7cmKampuzevbt/bsSIEdm1a1cmTpyY++67L8VisYaVAhycGhoaMmnSpEGtdSIdAAAAYAgUi8V86lOfSqFQSKFQ2GO+UCjkk5/8pBAd4AAgSAcAAAAYInPnzs3111+/x4nHSZMm5frrr8/cuXNrVBkAe0NrFwD2idYuAAAweKVSKStWrEhXV1caGxsza9YsJ9EBamxvWrvUD3EtAAAAAAe9YrGYOXPmpLm5OR0dHTmAzzUCHJS0dgEAAAAAgCoE6QAAAAAAUIUgHQAAAAAAqhCkAwAAAABAFXt1s9Hvfe97+d73vpfOzs4kyRFHHJE/+qM/ysyZM5MkXV1duemmm3LPPfeku7s7J510Ui677LKMHz++/xobNmzIDTfckIceeigjRozImWeembe//e3uVA0AAAAAwLBUKO/FbaJXrlyZurq6NDc3p1wu5/vf/36+/e1v5zOf+UymTp2aG264Iffdd1/e+973ZtSoUfnyl7+curq6fPSjH02S9Pb25q//+q8zfvz4vOMd78imTZty3XXX5Zxzzsnb3/72vS6+s7Mz3d3de/04AF68lpaWQa9dt27dEFYCAAAHhkKhkObm5nR0dGQv4hgAhkhDQ0MmTZo0qLV71drltNNOyymnnJLm5uYcfvjh+ZM/+ZOMGDEiv/zlL7Njx47cfvvtueSSS3L88cfnmGOOyeWXX57Vq1dnzZo1SZL7778/TzzxRBYsWJCjjjoqM2fOzEUXXZTvfve76enp2ftXCgAAAAAAQ2yfe6T39vbm7rvvzu7duzNjxow88sgjKZVKOeGEE/rXtLS0ZOLEif1B+po1azJt2rSKVi8nn3xydu7cmfb29n1/FQAAAAAAMET2qkd6kjz++OP50Ic+lO7u7owYMSJ/9Vd/lSOOOCKPPfZY6uvrM3r06Ir148aNy+bNm5MkmzdvrgjR++b75p5Pd3d3RQuXQqGQkSNH9v8egOHNZzUAAPz652I/HwMcePY6SD/88MPz2c9+Njt27Mh//Md/5O/+7u9y9dVXD0Vt/W6++eZ84xvf6P/66KOPzqc//elB968BoLaam5trXQIAANRUqVTKD3/4w9xxxx1pbm7Oa17zmhSLxVqXBcAg7XWQXl9fnylTpiRJjjnmmDz88MNpa2vLnDlz0tPTk+3bt1ecSt+yZUv/KfTx48dn7dq1FdfbsmVL/9zzufDCC/PGN76x/+u+v7nt7OzUWx3gANDR0VHrEgAAoGba2tpy9dVXV7S1nTp1av7mb/4mc+fOrWFlAAe3+vr6QR/W3usg/bl6e3vT3d2dY445JsViMQ8++GBe9apXJUmefPLJbNiwITNmzEiSzJgxI9/85jezZcuW/pYuDzzwQEaOHJkjjjjieZ+joaEhDQ0NA865yzXA8OezGgCAg1VbW1vmz5+fc845J3/xF3+RKVOm5Kmnnsrtt9+ed73rXbn++uuF6QAHgL0K0v/v//2/OfnkkzNx4sTs2rUrd911V37+85/nQx/6UEaNGpWzzz47N910U8aMGZNRo0ZlyZIlmTFjRn+QftJJJ+WII47Iddddl4svvjibN2/O1772tZx77rnPG5QDAAAAHIhKpVIWL16cE088MatWrcqyZcv654444oiceOKJ+ehHP5pzzz1XmxeAYa5Q3otjgv/wD/+Qn/3sZ9m0aVNGjRqVI488MhdccEFOPPHEJElXV1duuumm3H333enp6clJJ52Uyy67rKJtS2dnZ770pS/loYceSlNTU84888xcfPHF+/QfjM7OzoqbkALw29PS0jLotevWrRvCSgAAYHi655578ta3vjVJ8vu///t53/vel7POOit33nlnvvCFL+TWW29Nkvy///f/MmfOnFqWCnBQamhoGHRrl70K0ocbQTpA7QjSAQCgum9+85tZsGBBXvva1+amm25KsVhMc3NzOjo6UiqV8md/9me54447cu211+bNb35zrcsFOOjsTZBeN8S1AAAAAByUNm7cmCR5/etfn7q6ygimrq4u5513XsU6AIYvQToAAADAEDjssMOSJLfcckt6e3sr5np7e3PLLbdUrANg+BKkAwAAAAyBKVOmJEnuuOOOzJs3LytXrszWrVuzcuXKzJs3L3feeWfFOgCGLz3SAdgneqQDAEB1pVIpZ5xxRiZMmJCnn346TzzxRP/c1KlTM2HChGzevDl33XVXisViDSsFODjpkQ4AAABQY8ViMYsWLcqDDz6Yzs7Oirn169fnwQcfzMKFC4XoAAcAQToAAADAECqXyykUChVjdXV1OYCbBAAcdLR2AWCfaO0CAADV9bV2aW1tzQ033JCVK1emq6srjY2NOe200/Kud70rq1ev1toFoEa0dgEAAACoseXLl6e9vT0LFixIQ0ND5syZkz/5kz/JnDlz0tDQkCuuuCKPP/54li9fXutSAXgBgnQAAACAIbB+/fokSWtr64DzfeN96wAYvgTpAAAAAENg8uTJSZJVq1YNON833rcOgOFLkA4AAAAwBGbPnp2pU6fm2muvTW9vb8Vcb29vrrvuukybNi2zZ8+uUYUADJYgHQAAAGAIFIvFLFq0KMuWLcu8efOycuXKbN26NStXrsy8efOybNmyLFy40I1GAQ4AhXK5XK51Efuqs7Mz3d3dtS4D4KDU0tIy6LXr1q0bwkoAAGB4a2try+LFi9Pe3t4/Nm3atCxcuDBz586tYWUAB7eGhoZMmjRpUGsF6QDsE0E6AAAMXqlUyooVK9LV1ZXGxsbMmjXLSXSAGtubIL1+iGsBAAAAOOgVi8XMmTMnzc3N6ejoyAF8rhHgoKRHOgAAAAAAVCFIBwAAAACAKgTpAAAAAABQhSAdAAAAAACqEKQDAAAAAEAVgnQAAAAAAKhCkA4AAAAAAFUI0gEAAAAAoIr6WhcAAAAA8FJXKpWyYsWKdHV1pbGxMbNmzUqxWKx1WQAMkiAdAAAAYAi1tbVl8eLFaW9v7x+bOnVqFi1alLlz59awMgAGS2sXAAAAgCHS1taW+fPnp7W1NUuXLs3WrVuzdOnStLa2Zv78+Wlra6t1iQAMQqFcLpdrXcS+6uzsTHd3d63LADgotbS0DHrtunXrhrASAAAYnkqlUs4444y0trZmyZIlKRaLaW5uTkdHR0qlUubNm5fVq1fnrrvu0uYFoAYaGhoyadKkQa11Ih0AAABgCCxfvjzt7e1ZsGBB6uoqI5i6urpcccUVefzxx7N8+fIaVQjAYOmRDgAAADAE1q9fnyRpbW0d8Gajra2tFesAGL4E6QAAAABDYPLkyUmSJUuW5P/8n/+zx81GL7744op1AAxfWrsAAAAADIHZs2fnsMMOy6c+9akcd9xxFTcbPe644/KpT30qEydOzOzZs2tdKgAvQJAOAAAA8FtQLpf7fwFwYBGkAwAAAAyB5cuXZ+PGjbnqqquyevXqnH/++Rk7dmzOP//8rF69OldddVU2bNjgZqMABwBBOgAAAMAQ6LuJaEtLyx6n0MvlclpaWirWATB8CdIBAAAAhkDfTUTf97735eUvf3lFj/SXv/zled/73lexDoDhq1A+gBtzdXZ2pru7u9ZlAByU+k7PDMa6deuGsBIAABieurq6Mn369EyYMCH33ntvGhoa0tzcnI6OjnR3d+fUU0/Npk2bsnbt2jQ2Nta6XICDTkNDQyZNmjSotU6kAwAAAAyBlStXplQqZcOGDbnsssuycuXKbN26NStXrsxll12WDRs2pFQqZeXKlbUuFYAXIEgHAAAAGAJ9vc+vvfbarFq1ao+bjV577bUV6wAYvuprXQAAAADAS1Ff7/Mjjzwyd999d1asWJGurq40NjZm1qxZ+clPflKxDoDhS490APaJHukAAFBdqVTKGWeckdbW1ixZsiTFYrG/R3qpVMq8efOyevXq3HXXXSkWi7UuF+Cgo0c6AAAAQI0Vi8UsWrQoy5Yty7x58yp6pM+bNy/Lli3LwoULhegABwAn0gHYJ06kAwDA4LS1tWXx4sVpb2/vH5s2bVoWLlyYuXPn1rAygIPb3pxIF6QDsE8E6QAAMHilUmmPHulOogPU1t4E6W42CgAAADDEisVi5syZ098j/QA+1whwUNIjHQAAAAAAqhCkAwAAAABAFYJ0AAAAAACoQpAOAAAAAABVuNkoAAAAHKB27tyZtWvX1roMBmnXrl3Ztm1bxowZkxEjRtS6HAZh+vTpGTlyZK3LAIYBQToAAAAcoNauXZvzzjuv1mXAS9Ytt9ySE044odZlAMOAIB0AAAAOUNOnT88tt9xS6zIYpF/+8pdZsGBBrr322hx77LG1LodBmD59eq1LAIYJQToAAAAcoEaOHOm07AHo2GOP9X0DOMC42SgAAAAAAFQhSAcAAAAAgCoE6QAAAAAAUIUgHQAAAAAAqhCkAwAAAABAFYJ0AAAAAACoQpAOAAAAAABVCNIBAAAAAKAKQToAAAAAAFQhSAcAAAAAgCoE6QAAAAAAUIUgHQAAAAAAqhCkAwAAAABAFYJ0AAAAAACoQpAOAAAAAABVCNIBAAAAAKAKQToAAAAAAFQhSAcAAAAAgCoE6QAAAAAAUIUgHQAAAAAAqhCkAwAAAABAFYJ0AAAAAACoQpAOAAAAAABVCNIBAAAAAKAKQToAAAAAAFQhSAcAAAAAgCoE6QAAAAAAUIUgHQAAAAAAqhCkAwAAAABAFYJ0AAAAAACoQpAOAAAAAABVCNIBAAAAAKAKQToAAAAAAFQhSAcAAAAAgCoE6QAAAAAAUIUgHQAAAAAAqhCkAwAAAABAFYJ0AAAAAACoQpAOAAAAAABVCNIBAAAAAKAKQToAAAAAAFQhSAcAAAAAgCoE6QAAAAAAUIUgHQAAAAAAqhCkAwAAAABAFYJ0AAAAAACoQpAOAAAAAABVCNIBAAAAAKAKQToAAAAAAFQhSAcAAAAAgCoE6QAAAAAAUIUgHQAAAAAAqhCkAwAAAABAFYJ0AAAAAACoQpAOAAAAAABVCNIBAAAAAKAKQToAAAAAAFQhSAcAAAAAgCoE6QAAAAAAUIUgHQAAAAAAqhCkAwAAAABAFYJ0AAAAAACoQpAOAAAAAABVCNIBAAAAAKAKQToAAAAAAFQhSAcAAAAAgCoE6QAAAAAAUIUgHQAAAAAAqhCkAwAAAABAFYJ0AAAAAACoQpAOAAAAAABVCNIBAAAAAKAKQToAAAAAAFQhSAcAAAAAgCoE6QAAAAAAUIUgHQAAAAAAqhCkAwAAAABAFYJ0AAAAAACoQpAOAAAAAABVCNIBAAAAAKAKQToAAAAAAFQhSAcAAAAAgCrq92bxzTffnBUrVmTdunVpbGzMjBkz8qd/+qc5/PDD+9d0dXXlpptuyj333JPu7u6cdNJJueyyyzJ+/Pj+NRs2bMgNN9yQhx56KCNGjMiZZ56Zt7/97SkWi/vthQEAAAAAwP6wVyfSf/7zn+fcc8/Nxz/+8Xz4wx9OqVTKxz72sezatat/zY033ph7770373//+3P11Vdn06ZNueaaa/rne3t788lPfjI9PT352Mc+lve+972588478y//8i/771UBAAAAAMB+sldB+oc+9KGcddZZmTp1ao466qi8973vzYYNG/LII48kSXbs2JHbb789l1xySY4//vgcc8wxufzyy7N69eqsWbMmSXL//ffniSeeyIIFC3LUUUdl5syZueiii/Ld7343PT09+/8VAgAAAADAi7BXrV2ea8eOHUmSMWPGJEkeeeSRlEqlnHDCCf1rWlpaMnHixKxZsyYzZszImjVrMm3atIpWLyeffHK+9KUvpb29PUcfffQez9Pd3Z3u7u7+rwuFQkaOHNn/ewCGN5/VAADw65+LC4WCn5EBDjD7HKT39vbmq1/9ao477rhMmzYtSbJ58+bU19dn9OjRFWvHjRuXzZs396/5zRC9b75vbiA333xzvvGNb/R/ffTRR+fTn/50Jk2atK/lA/Bb1NzcXOsSAACg5jo6OpIkEydO9DMywAFmn4P0L3/5y2lvb8/ixYv3Zz0DuvDCC/PGN76x/+u+v7Xt7OzUDgbgAND3BwYAADiYbdiwof9//YwMUHv19fWDPqy9T0H6l7/85dx33325+uqrc9hhh/WPjx8/Pj09Pdm+fXvFqfQtW7b0n0IfP3581q5dW3G9LVu29M8NpKGhIQ0NDQPOlcvlfXkJAPwW+awGAIBf/1xcLpf9jAxwgNmrm42Wy+V8+ctfzooVK7Jo0aJMnjy5Yv6YY45JsVjMgw8+2D/25JNPZsOGDZkxY0aSZMaMGXn88cf7w/MkeeCBBzJy5MgcccQRL+a1AAAAAADAfrdXJ9K//OUv56677soHPvCBjBw5sr+n+ahRo9LY2JhRo0bl7LPPzk033ZQxY8Zk1KhRWbJkSWbMmNEfpJ900kk54ogjct111+Xiiy/O5s2b87WvfS3nnnvu8546BwAAAACAWtmrIP173/tekuQjH/lIxfjll1+es846K0lyySWXpFAo5JprrklPT09OOumkXHbZZf1r6+rqctVVV+VLX/pSPvzhD6epqSlnnnlmLrroohf3SgAAAAAAYAgUygdwU67Ozs50d3fXugyAg1JLS8ug165bt24IKwEAgAPDgw8+mPPOOy+33HJLTjjhhFqXA3DQa2hoGPTNRveqRzoAAAAAABxsBOkAAAAAAFCFIB0AAAAAAKoQpAMAAAAAQBWCdAAAAAAAqEKQDgAAAAAAVQjSAQAAAACgCkE6AAAAAABUIUgHAAAAAIAqBOkAAAAAAFCFIB0AAAAAAKoQpAMAAAAAQBWCdAAAAAAAqEKQDgAAAAAAVQjSAQAAAACgivpaFwDwfHbu3Jm1a9fWugz2gwcffLDWJTCA6dOnZ+TIkbUuAwAAAIY9QTowbK1duzbnnXderctgP/B9HJ5uueWWnHDCCbUuAwAAAIY9QTowbE2fPj233HJLrcvgeexNOO77ODxNnz691iUAAADAAUGQDgxbI0eOdFp2GLvyyivz+c9/flDrfB8BAACAA5mbjQKwTz7wgQ/s13UAAAAAw5UgHYB9tm7duhc1DwAAAHAgEKQD8KKsW7cuV155ZcXYlVdeKUQHAAAAXjIE6QC8aB/4wAf6byh6yy23aOcCAAAAvKQI0gEAAAAAoApBOgAAAAAAVCFIBwAAAACAKgTpAAAAAABQhSAdAAAAAACqEKQDAAAAAEAVgnQAAAAAAKhCkA4AAAAAAFUI0gEAAAAAoApBOgAAAAAAVCFIBwAAAACAKgTpAAAAAABQhSAdAAAAAACqEKQDAAAAAEAVgnQAAAAAAKhCkA4AAAAAAFUI0gEAAAAAoApBOgAAAAAAVCFIBwAAAACAKgTpAAAAAABQhSAdAAAAAACqEKQDAAAAAEAVgnQAAAAAAKhCkA4AAAAAAFUI0gEAAAAAoApBOgAAAAAAVCFIBwAAAACAKgTpAAAAAABQhSAdAAAAAACqEKQDAAAAAEAVgnQAAAAAAKhCkA4AAAAAAFUI0gEAAAAAoApBOgAAAAAAVCFIBwAAAACAKgTpAAAAAABQhSAdAAAAAACqEKQDAAAAAEAVgnQAAAAAAKhCkA4AAAAAAFUI0gEAAAAAoApBOgAAAAAAVCFIBwAAAACAKgTpAAAAAABQhSAdAAAAAACqEKQDAAAAAEAVgnQAAAAAAKhCkA4AAAAAAFUI0gEAAAAAoApBOgAAAAAAVCFIBwAAAACAKgTpAAAAAABQhSAdAAAAAACqEKQDAAAAAEAVgnQAAAAAAKhCkA4AAAAAAFUI0gEAAAAAoApBOgAAAAAAVCFIBwAAAACAKgTpAAAAAABQhSAdAAAAAACqEKQDAAAAAEAVgnQAAAAAAKhCkA4AAAAAAFUI0gEAAAAAoApBOgAAAAAAVCFIBwAAAACAKgTpAAAAAABQhSAdAAAAAACqEKQDAAAAAEAVgnQAAAAAAKhCkA4AAAAAAFUI0gEAAAAAoApBOgAAAAAAVCFIBwAAAACAKgTpAAAAAABQhSAdAAAAAACqEKQDAAAAAEAVgnQAAAAAAKhCkA4AAAAAAFUI0gEAAAAAoApBOgAAAAAAVFFf6wIAAAAYXnbt7M2unb0VY42NhYwaU0ypVM7WLaU9HjP+0Gf/eLntmVJ6esoVc6NG16WxqS67d/Vm547K69Y3FDLmkGLKveVs2bzndceOL6aurpDt20rp7qq87shRdWkaUZeurt7s2FZ53WJ9IYeMLSZJtmzqSbnyoTlkbDHF+kJ2bO9N1+7KxzaNqMvIUXXp6S5n29bKmurqChk7/tnrPrO5lN7eyguPOaSY+oZCdu7oze5dz9nDprqMGl2XUk85W5+pvG6hkIyb8Owebn2mlNJz93BMXRobB97DhsZCRo8ppre3nGcG2MNx44sp1BWybWspPd3Ps4e7e7Nj+3O+N/WFjPnVHm5+umeP6x4yrphisZAd20rpes73ZsTIuowYWZfu7nK2P2cPi8VCDhn34vawp6ecbdX2cEsppVLldUePqUtDY92A7+/+PSyV88wA7+9xE4opFJ5nD0fXpampLrt392bnc/ew7/1dLmfLplJ272zI1JaXZ/fOhmx+uidjxxVTVxz4/d2/h1292f7c9/dv7OFA7+8xY4upf5Hv7wH38JBiGhoKPiN8RiQZfp8RfdeEoSJIBwAAoMJ/Prw7ax7aXTHWcmRDTnnV6Oza0Zsf3rptj8f84UXjkyQ/XbEjmzZWhiIzZ4/KEUc15sn27vzsvp0Vc5Om1OdVZ45JTykDXvcPLhibphGFPPSTnfmvJyuDmlecPCIvO25ENvxXT+69Z0fF3NjxxZx57iFJkruWbUtvZf6Ts847JIeMK+aXD+3K4492VcxNf3lTXn7iyGze1JMf3bG9Ym7EyEJ+//xxSZLlP9iWXTsrA57ffe3oTJzckMfW7s7aX1Tu4bSjG3PSrFHZsX3PPayrS97w1vFJkvt+tGOPsOvUOaNy+NTGPPGfXfn5T3dVzP3O4fWZ9Zox6e4qD7iH5715XBrqkp/dtzOdT1Xu4fGnjMzRxzZlfUdPfrK8cg8nHFbMq1/37B4OdN2z5x6S0YcUs+pnu7LuP7sr5ma8sinHHT8ymzb0ZPkPKvdw1Ji6nPOGsUmSH925LV27K/fwjHPG5NCJ9Xlk9e48sqZyD4+a3pgTTh2Vbc+U9qipvj55/VvGJ0lW3rM9256p/Kaf/urRmdJSl/ZHu7Lqwco9bD6iIaedMTq7dw+8h3P/aFyKxeSBH+/Ixs7K782Jp43MkS9rylNPdOeBlZXv78MmFTPn7EPS29u3h1Pyof/+jXQ8mnQ8ui2v+8OxGTmqkF/cvysdT1TuYesJI3LsK0ZkY2cpP76rcg/HjK3La1//7B7ec/u29Dwnw3zN74/J+EPr8/CqXXlsbeX7+5gZTXnlzJF5Zkspd99W+Vobmwo5903Pvr9X3LV9j/B59u+NzuTmBp8RPiOSDL/PiL5rwlAplMvP/Tu3A0dnZ2e6u7tfeCEAQ+7BBx/Meeedl1tuuSUnnHBCrcsBAF4Ep02dNk2G32nT5MA/kb527dpcccUVue666zJ9+nQn0n/FZ8SzfEY8y4l0fpsaGhoyadKkQa0VpAOwXwjSAQCgOj8zAwwvexOk+2saAAAAAACoQpAOAAAAAABVCNIBAAAAAKAKQToAAAAAAFQhSAcAAAAAgCoE6QAAAAAAUIUgHQAAAAAAqhCkAwAAAABAFYJ0AAAAAACoQpAOAAAAAABVCNIBAAAAAKAKQToAAAAAAFQhSAcAAAAAgCoE6QAAAAAAUIUgHQAAAAAAqhCkAwAAAABAFYJ0AAAAAACoQpAOAAAAAABVCNIBAAAAAKCK+loXAAAAwPCybt26PP3007UuA15yfvnLX1b8L7D/HHrooWlpaal1GbyECdIBAADot27dupz5e7+Xnbt21boUeMlasGBBrUuAl5yRI0bk+z/4gTCdISNIBwAAoN/TTz+dnbt25fo3vzkzJk6sdTnwkrKrpyePb96caePHZ0S9SAb2lzUbNmT+N7+Zp59+WpDOkPGpDQAAwB5mTJyYkw8/vNZlwEvOq6ZNq3UJAOwDNxsFAAAAAIAq9vpE+s9//vN8+9vfzqOPPppNmzblr/7qrzJr1qz++XK5nK9//eu57bbbsn379rS2tuayyy5Lc3Nz/5pt27ZlyZIluffee1MoFDJ79uxceumlGTFixP55VQAAAAAAsJ/s9Yn03bt356ijjsqf//mfDzj/rW99K9/5znfyrne9K5/4xCfS1NSUj3/84+nq6upf84UvfCHt7e358Ic/nKuuuiq/+MUv8sUvfnHfXwUAAAAAAAyRvQ7SZ86cmbe97W0Vp9D7lMvltLW15c1vfnNOP/30HHnkkbniiiuyadOm/PjHP06SPPHEE/npT3+a97znPTn22GPT2tqaefPm5Z577snTTz/94l8RAAAAAADsR/u1R/r69euzefPmnHjiif1jo0aNyvTp07NmzZokyZo1azJ69Oi87GUv619zwgknpFAoZO3atfuzHAAAAAAAeNH2ukd6NZs3b06SjBs3rmJ83Lhx/XObN2/O2LFjK+aLxWLGjBnTv+a5uru7093d3f91oVDIyJEj+38PQO31fR4XCgWfzQAAANSEP48yVPZrkD5Ubr755nzjG9/o//roo4/Opz/96UyaNKmGVQHwmzo6OpIkEydOrLjBNABwYOn7bzoAHGgmTZrkz6MMmf0apI8fPz5JsmXLlkyYMKF/fMuWLTnqqKP61zzzzDMVjyuVStm2bVv/45/rwgsvzBvf+Mb+r/v+ZqmzszM9PT377wUAsM82bNjQ/7/+AA4AB67Ozs5alwAA+6Szs9OfR9kr9fX1gz6svV+D9MmTJ2f8+PF58MEH+4PzHTt2ZO3atfmDP/iDJMmMGTOyffv2PPLIIznmmGOSJD/72c9SLpczffr0Aa/b0NCQhoaGAefK5fL+fAkA7KO+z+NyueyzGQAAgJrw51GGyl4H6bt27cpTTz3V//X69evz2GOPZcyYMZk4cWLmzp2bb37zm2lubs7kyZPzta99LRMmTMjpp5+eJDniiCNy8skn54tf/GLe9a53paenJ0uWLMmcOXNy6KGH7r9XBgAAAAAA+8FeB+kPP/xwrr766v6vb7rppiTJmWeemfe+97254IILsnv37nzxi1/Mjh070tramg9+8INpbGzsf8z73ve+fPnLX87ixYtTKBQye/bszJs3bz+8HAAAAAAA2L/2Okh/5Stfma9//evPO18oFHLRRRfloosuet41Y8aMyZVXXrm3Tw0AAAAAAL91dbUuAAAAAAAAhjNBOgAAAAAAVCFIBwAAAACAKgTpAAAAAABQhSAdAAAAAACqEKQDAAAAAEAVgnQAAAAAAKhCkA4AAAAAAFXU17oAAAAA4KWvMG5cxv7lXyZJerdty9b/7/9LyuU91tVNnJhD3vveZ9dt3pytn//8b7PMIVcYNSqNp5ySYnNzis3NqZswIUmy5eqrB15/yCFpeMUrUn/ssSlOnJjCmDEp79yZ0uOPZ/c996S0bl3lA+rqUn/ccWmYMSPFlpbUjRuXlMspdXam+/7703XvvQPu+3557iR1v/M7aXjlK3/9+kaPTs9jj2X7jTfu3UYBDDOCdAAAAOC3plwqpW7MmNQfe2x61qzZY75x5syUe3trUNlvR92kSRlxzjkpl8vp3bgx5a6uFBobn3d946xZGfHqV6f09NPpefjh9O7YkeKhh6a+tTX1ra3Z+c1vpvuhh359/QkTMvqP/zjl3bvT8+ijz+5xU1MaZszIyDe8IfXTp2fH1742qFr39rmTpKG1NSNe85qUe3rSu3FjMnr0vm0UwDAjSOegs2tnb3btrPyhrLGxkFFjiimVytm6pbTHY8Yf+uz/VbY9U0pPT+Xf3I8aXZfGprrs3tWbnTsqr1vfUMiYQ4op95azZfOe1x07vpi6ukK2byulu6vyuiNH1aVpRF26unqzY1vldYv1hRwytpgk2bKpZ4/DBIeMLaZYX8iO7b3p2l352KYRdRk5qi493eVs21pZU11dIWPHP3vdZzaX0ttbeeExhxRT31DIzh292b3rOXvYVJdRo+tS6iln6zOV1y0UknETnt3Drc+UUnruHo6pS2PjwHvY0FjI6DHF9PaW88wAezhufDGFukK2bS2lp/t59nB3b3Zsf873pr6QMb/aw81P9+xx3UPGFVMsFrJjWyldz/nejBhZlxEj69LdXc725+xhsVjIIeNe3B729JSzrdoebimlVKq87ugxdWlorBvw/d2/h6Vynhng/T1uQjGFwvPs4ei6NDXVZffu3ux87h72vb/L5WzZVMrunQ2Z2vLy7N7ZkM1P92TsuGLqigO/v/v3sKs325/7/v6NPRzo/T1mbDH1L/L9PeAeHlJMQ0PBZ4TPiCTD7zOi75oA8FJQam9PccqUNM6cuWeQXiik4cQT0/PII6k/6qia1DfUejdsyLavfCWlp55Kuroy5r3vTXHixOddX1q3Ltu++tWU/vM/K8aL06Zl9J/9WUa84Q3pXrUqKT37c0e5qys7/3//v3Tdf3/S3d2/ftf3vpfRl1yShuOOS/0rXpGen//8BWvd2+dOku6f/zzdq1end/36FEaOzNi/+qtB7QvAcCdI56Dznw/vzpqHdleMtRzZkFNeNTq7dvTmh7du2+Mxf3jR+CTJT1fsyKaNlaHIzNmjcsRRjXmyvTs/u29nxdykKfV51Zlj0lPKgNf9gwvGpmlEIQ/9ZGf+68nKoOYVJ4/Iy44bkQ3/1ZN779lRMTd2fDFnnntIkuSuZdvy3MMaZ513SA4ZV8wvH9qVxx/tqpib/vKmvPzEkdm8qSc/umN7xdyIkYX8/vnjkiTLf7Atu3ZWBjy/+9rRmTi5IY+t3Z21v6jcw2lHN+akWaOyY/uee1hXl7zhreOTJPf9aMceYdepc0bl8KmNeeI/u/Lzn+6qmPudw+sz6zVj0t1VHnAPz3vzuDTUJT+7b2c6n6rcw+NPGZmjj23K+o6e/GR55R5OOKyYV7/u2T0c6Lpnzz0kow8pZtXPdmXdf3ZXzM14ZVOOO35kNm3oyfIfVO7hqDF1OecNY5MkP7pzW7p2V+7hGeeMyaET6/PI6t15ZE3lHh41vTEnnDoq254p7VFTfX3y+reMT5KsvGd7tj1T+U0//dWjM6WlLu2PdmXVg5V72HxEQ047Y3R27x54D+f+0bgUi8kDP96RjZ2V35sTTxuZI1/WlKee6M4DKyvf34dNKmbO2Yekt7dvD6fkQ//9G+l4NOl4dFte94djM3JUIb+4f1c6nqjcw9YTRuTYV4zIxs5SfnxX5R6OGVuX177+2T285/Zt6XlOhvma3x+T8YfW5+FVu/LY2sr39zEzmvLKmSPzzJZS7r6t8rU2NhVy7puefX+vuGv7HuHz7N8bncnNDT4jfEYkGX6fEX3XBICXgnJPT7p+9rM0zpyZwqhRKe/49X+H62fMSN2YMdn1059WDdIbTj45jTNnpvg7v5PU1aXU2ZmuH/843T/9acW6wpgxaTzttNS/7GWpmzAhhaamlLdtS/cvf5ndd95Z8dxJMvKCC9J48sl55vOfT8OMGWk8/fTUjR+f8rZt6frpT7P7+99/8a9/+/aUtm9/4YW/0rNq1YDjpccfT8+jj6Zh+vQUJ09OqaPj2etv3ZqulSv3fEB3d7r+4z9S/5a3pP7IIwcVpO/tcydJb2fnIF4VwIFHkM5B58iXNeV3Dm+oGGtsLCRJRoyqy2t+f8zzPvbkWaMGPG2aJIdPbciEw4oVc/UNz163vpgBr9vwq+d95cyRmfHKPU9KJsnE36nf47HF+kL/71/9ujF7nDbtq+nYV47IkdMr/4lg04hn58ZP2PO6dXW/vu7s3xsz4EnJJDlqelOaj3jOHjbV9T/3c69b+PVlc8rvjhrwtGmSHHFkYw6bVPmx1LdHDY2FAfew/ldbfvwpIwc8bZokk5v3fK31v7GHA113xK8e23r8iBwzo6ly7lenQidMHOB7U/z1dX/3rOffw2OOa0rLkQPv4Zixxap7eNqc0QOeSE+SqUc3ZtKUgfewqWngPaz71SHXE08fNeCJ9CSZckRDxk0Y+P1dV/fsHq5duzZXXHFFrrvuukyfPj1NTc/Ov/ykEZn+8oH38LBJe77W39zDOWfv+f7uOyX8stYRmXr0wO/vseP2vO5vvr9nvXqAPfzV98ZnhM+IZPh9RjiNDsBLTfdPfpKm005Lw0knpetHP+ofb5w5M707dqR71ao8318hj3zzm9N4wgkpbdyYrgcfTEql1B9zTEZdcEF2T5qUXbfe2r+2/sgj0/S7v5ueRx5J97p1SamU4pQpaTr99NS/7GXZdv31ye7dez7H7/9+ikcemZ41a9Lz8MNpOO64jDjrrKRYzO7bb69Ye8iVV6Zu/Pg887nPpbxly/7YnsH71YmJwbbCKfedHN8frXP28rkBDnSCdA461f55fLFY6G/RMJC+AG8gTSPq+gOo5yrUVb/u6DHPf93Gxro0Hvr8AUpfO4SBjBpd1x+YPVd9Q/Wa+to3DGTkqLr+AOq5ivXVr3vIPu5h3QvsYV/4NJDGprr+EG8g1a47akwxo55nrmGI9rD+hfZw3PNft9r7u+6F3t9V9rCp6dkWLwMpFJ69btPI7rSv+0WaRnZXPE+193dDY13G1+D9va976DPi13xGPKsWnxEA8FJQevLJlP7rv9J48sn9QXph9OjUT5/+7Gnq0p4t25Kk4ZRT0njCCen6yU+y89///deBcF1dRv3xH6dpzpx0/exn6f3VCemeRx/NM3/7txUtTpKk4cQTM+rCC9M0a1Z2//CHezxPsbk52/7xH1Pe9uy/TNv9/e/nkAULnl1/5537J4h+kQpjx6b+mGPSu3VretevH9RjGmfOTJL0PPzwb/25AQ50/oQGAAAA/NZ1/fSnKU6enGJLS5Jn27UUisV0/eQnz/uYptNPf7YHeFtbZZjd25tdvzop3nj88f3D5R079gjRk6T7gQdS3rUr9UcfPeDz7PrBD/pD9CQp79yZ7tWrU2hqSt1z+plvv+mmbL3uupS3bn3hF72/1NVl1IUXplBfn13LlmWPf4I4gIZTTknDscem55FH0rN27W/1uQFeCpxIBwAAAH7ruh94ICNe97o0zJyZ0rp1aTz55JQ6OtL7X/818APq61P3O7+T8tataTrjjD3ni8/+a6/nBt31ra1pPPXUFJubUxg5MoW6X58pLBxyyIBPVXryyT3Gep955tnHjBhROb5p0/O+xqEy8oILUn/UUem69950P/DAC66vP/bYjJw7N72bN2fHzTf/Vp8b4KVCkA4AAAD81pV37EjP6tVpfOUr0/3QQylOnPjsSfPnURg5MoVCIYWxY5/tV/586xp+fZ+Rxt/93Yz8gz9I7/bt6Xn44ZS3bk35VyfUm171qhTqB45FygP0Te8/Af+bN3ipgZEXXJDGE09M1/33P9ve5gXUT5+eUX/8xylv25ZtN95YcdJ+qJ8b4KVEkA4AAADURNdPfpKGV7wio970ppS7u5+9eejz6Au3e558MttvuOGFL14oZMTv/V56t259tt/5jh0V0wOeah/mRl5wwbN95R98MDu/9a0XXF9/7LHPhug7dmT7jTemvHnzb+25AV5q9EgHAAAAaqLn4YfT+8wzqRs7Nt2rViW7dj3/4q6ulDo7U5w4MWlqesFrF0aNSmHEiJTa2/cI0YuHH15xcv1A0B9k/+xn2XnzzS/Ym7w/RN+5M9tvvPFFtaDZ2+cGeCkSpAMAAAC1US5nx9e+lu1f+1p23XbbCy7vWr48hcbGjPrDP0wGCMIL48enMG7cs5fevj3l7u4Um5uT32zhMmJERrz+9fvtJdRNmJC6ww5L6oYuYukPsh96KDu/+c0XDtH72rn0hehPP139CerqUnfYYambMOFFPzfAS5XWLgAAAEDNlDo6ko6OQa3tuvfeFI84Io0nn5xDpk1LzyOPpHfr1tSNHp26iRNTPOKI7PzXf033li3Prv/xj9M0Z07GvOc96VmzJoWmptRPn57eLVv6bx76Yo3+sz9L3fjxeeZzn0v5V8/7QkZecEH/7+vGjNljbPddd6V348YkSdOZZ6bx5JNT3r07vRs3pun3fm+P63WvWtV/k9a6ww7LqIsuSqG+Pt2PPZaG44/fY33v5s3pvv/+/q8LhxySQ664Ir2bN2fr5z/fP763z933/E2vfvWzX/zqLzDqJk6seH1awwAHIkE6AAAAcMDY+a1vpeeXv0zDKaekfsaMFBobU96+Pb0bN2bX976Xnkce6V+767bbUt65Mw0nn5zG009Pedu2dP/sZ9l155055PLLa/YaGk8+uepY109/mvwqSK8bPz5JUmhqyogBguzk2WC8L8wujBnTfxPVxhNOGHB9z2OPVQTpz2dvn7vv+Z/7+uqeMyZIBw5EhXL5wP03OZ2dnen+1d22AaitBx98MOedd15uueWWnPA8P7ADAMNf33/T75w/PycffnitywGAF/TTJ5/MWddf78+j7LWGhoZMmjRpUGv1SAcA/v/t3XtwnPV5L/DvrrS6y5Zky/gm2xgDCdQQThJCaBJIIbcpTJOUOgQCJ2nLTNKGpp007bRDW5pOOyVJ20N6mNMW/ujQTibjyZxCMcQ5OS1xkxICDWkKHPAF2xjfkG1JtmzdL+cPG8VC8toE0GL58/kHvZfd93mXGe36u4+eHwAAAFCGIB0AAAAAAMoQpAMAAAAAQBkWG+WMs2vXrnR1dVW6DJh1Nm/ePOm/wGunra0tS5YsqXQZAAAAZyxBOmeUXbt25Yorrkh/f3+lS4FZ69Zbb610CTDr1NfXZ8OGDcJ0AACAChGkc0bp6upKf39/Pvfl/5mlK1dVuhyYVYYGB9K564UsWNKRmtq6SpcDs8bOrVty5xc+m66uLkE6AABAhQjSOSMtXbkqKy+8qNJlwKzzpv92aaVLAAAAAHjNWWwUAAAAAADKEKQDAAAAAEAZgnQAAAAAAChDkA4AAAAAAGUI0gEAAAAAoAxBOgAAAAAAlCFIBwAAAACAMgTpAAAAAABQhiAdAAAAAADKEKQDAAAAAEAZgnQAAAAAAChDkA4AAAAAAGUI0gEAAAAAoAxBOgAAAAAAlCFIBwAAAACAMgTpAAAAAABQhiAdAAAAAADKEKQDAAAAAEAZgnQAAAAAAChDkA4AAAAAAGUI0gEAAAAAoAxBOgAAAAAAlCFIBwAAAACAMgTpAAAAAABQhiAdAAAAAADKEKQDAAAAAEAZgnQAAAAAACijutIFAMxmDdVV+eA5C5IkAyOj+eZznRmf5rzmmuq87+z2JMmR4ZF8a+u+GaxyZpSKhaxqbczi5ro0lKoyNpb0DY/k+UP92X6wL2PTvDCLm+pyTmtDmmuqU10spn9kNPv7BrOx60j6hkdP6brz6ktZ3FSX+Q21aShVpbpQSN/waHYfHsimrsMZnu7CSVa2NGTF3IY01VRnfHw8BweHs7nrSPYcGXw1LwMAAABwGtKRDjADxsbHU1ddlYWNtdMeXz63PuPj4xkfnz7UPd2VioW8d/n8vHl+c4ZHx7Otpy87e/tTqirmLWfNzeVL2qY8ZnV7cy5b0pqmmursPjyQ57qPpG94JCvmNuSq5fMzp+bUvgt+x+LWnNPamJGxsew42JetPUcyOj6e8+c15b3L56e2aupb4TsWt+QtZ81NdbGQ5w/2ZWfvQJpqqvPOpW1Z2dLwql8PAAAA4PSiIx1gBhzoH8rc2lKWz22Y0tFcSLJsTn06+4Yyv76mMgW+zla0HO3s3tx1OE/u653YX0hy5bJ5WdBYm3n1NTnQP5Qkqa0qZlVrY44Mj+Rftu/PyHFd46taG3PRgjlZ1daYJ/YePOm1t3QfyY6D/RkYHTtub2/esmBOVrY25k3zmvLjzkMTRxY31WVJc3329w3lezsPTHTKP73/6JcBq9vnZO/hwfSNnFpHPAAAAHD6E6QDzICx8fHs7O3PirkNqa0qZvC4UHdhU23qqqvy485DZYP05XPqs6KlIXNqqlMoFNI7NJyt3X15/lD/pPPqqoo5u6UhZzUeHWVSKhYzMDqaFw8P5pkDhyddO0neunBuls9tyPqtnVnUWJuVLY1pKFVlcHQ02w/259kDh1/1/TeWqpIkL77sS4TxJC/2DaW1vmZSZ3hDqSqFQiEH+ocnhehJsufwQC5aMGfaTvLpbOo6Mu3+Zw8czsrWxsxvmPyaL246+lcDG7sOTxo3MzQ6ni1dR3LxWXOzfG59nnkNXhcAAADg9GC0C8AMef5gf4qFQjrm1E/av2JuQwZHx7Ln8MAJH/v2RS1566KW1FQV80Lv0ZniVYVi3rqoJT/T3jzp3PkNNTm3rTEDI2PZ2TuQ53qO5MjQaFa2NuaKZfNSXSxMe43V7c1507ymdA0MZdvBviTJBfObc8H85innfmBlez56/qI0VFed0r0fGhxJkpz1stE2hSQLGmoyMjaermPd6ElyZGgko2PjmVdfmlLvoqa6JEln36ubVT52bFr9y6fp1B67p+lmsL+0r71h+hE9AAAAwOykIx1ghnQPDOfg4HCWz63Plu6jXdK1VcWc1VibrT3TL7aZJCvm1qdjTn22H+zLj/YenFistJDksiWtOa+tKTsP9afnWFi9r28oD27pzOjLEuJlc+rztkUtOaelMRu7pnZTt9SW8i/b90+MQHn2QCHvP3tBzmlpyDP7e6ddJPVUbT/Yl4459Tm3rSmtdaV0DQynWChkYWNtqouFPLa7e9LolaGx8Ty9vzer25vzvrPbs+fwQIZHx9NSV532hto8130kW7v7XkVFyfK5R2edvzyQHzpWR0OpKr1DI5OONRzrrG+qObUvEAAAAIDZQUc6wAx6/mB/5taW0lpXSnJ0kdFi4eiClieysuXoQpn/+eLBSWH2eJKnj80bX3pcl/vg6NiUED1Jdhzqz/DoWBY0Tj8+5tkDhyeH2aPj2XN4IKWqYppftrDn917oyv/Z1pn+U5wTPjaefPeFA3n+YF/mN9TmvLamrGo9OkLmhUP9k7rRX7Kl+0ge29OT6kIhK1sac/68ppzVWJeu/uG80Nv/qoL9ubXVefO8pgyMjGbTy75UeGn8zPltjTm+Gb6mWMiq1sYkSano7RMAAADOJDrSAWbQjkP9+Zn25qyYW5/ugeEsn9OQnoHhHBwcmfb8qsLR0HdgZCzntzVNOV4oHE16Xx50L26qy9ktDWmprU6pqphi4SeJcN0JxrF0Dw5P2fdSUF6qmjxe5cg0Y0/Kqakq5p1LWlNbVcy/7+zKgf6hVBUKWdxUl9ULmrOoqS7/+vzkRUXfNK8pb5rXlP+3vzcvHOrP0LGO9Iva5+Q9HfPyg13dUxZuPRUNpapcvqQthRzthB8anRzJv3CoP8vm1GdBY22uXtGeF48MplA4+poOjIyd4FkBAACA2UyQDjCDho7NQl/aXJ+dvQNprq3Of7548ITnl6qKKRQKqS9V5c3TzCp/yfFzxFe1NuaiBXMyMDKaF/uG0j88mrFjHerntE7usj7eyOjUHu+XGtsLOcGDTtFFC+ZkXn1N/u/2fRPz0kcynm0H+1IsJBefNXfSyJn2hppcML85m7sOT1os9ED/cB7Z1Z0PrFyQ1QvmZM+2fa+ojoZSVd7T0ZaaqmJ+sLs7+6fphB9P8siurpzX1pSOOfVZMbchw2NH/79t6jqSD6xckMHRV/ZFAgAAAHB6E6QDzLDtB/uzpLk+b1vYktGx8bxwqP+E574UbncPDOXh5w+c9LkLOdrJ3T8ymn/dvj+Do5M7qM+dpqt9JpzVWJvB0bGJEP14+46F2S11P3lLWnhsUdJ9fVOD7sHRsRweGklLXSlVhcK0Y2ym81KIXlddlR/s7s7eMt3sY+NHR908e2Dy2Jf59UfH4nQPTO3eBwAAAGYvQ14BZtiLRwbTPzya+lJVdh8eyPCJVhlNMjI+nkODw2muqU7pRK3kx6mpKqamqpiu/qEpIXprXWlS5/pMKhaSUnH6vvbaqqNvRcc3xL80iualYy9XU1XM+Ph4xk9xUvrxIfpju7uz5/ArHwmTJB3HZtHvPDTwUz0eAAAAOD0J0gEq4Pu7uvP9XV0Ti4WW81x3X6qLxVyycG6qClOj6IZSVRqOzT0fHB3LyNh4WmpLOX6sealYyMUL5rxm9TeWqtJUU3XKA1+6+odSLBTy5nmTO+KLhaMd9Emyv+8n4faBY13qq9oap4T/Z89tSEOpKgf6h3P8dxA1VYU01VSl5mXz3CeH6D3ZfQoh+nRfOCxuqsuKufXp6h/KrsOCdAAAADiTGO0CUAE9g8PpOcWm6G0H+9JWX8ryuQ2ZV1+TziODGRgZS111MU011WmrK+XxPT3p6z06t3trz5Gc19aUq1a0Z8/hgZSKxZzVWJu+kdH0v8JFQk/kXR1taSxVZ/1znekbOflzPrWvN/Pqa/Km+c1Z0Fh7dLHRYiFnNdamsVSdA/1Def7gT0bc7OwdyNl9g2lvqM37z27PnsODGR4bS0ttKQsaazMyNp4n9x2adI1zWhrz5vnNeWZ/b545biTLuzva0nDsGnNrqzO3dup4m2deNsLlymXz0z8ymt6hkYyOjaetvpT2htocHhrJD3b3vMJXCwAAADjdCdIBTgM/3Hswe48MZsXchixqqkt1sZDBkbEcHh7Jk/t603lcN/fT+3ozPDqWZXMbsrKlMYOjo3mhtz/P7D+cq8+eX5H6Dw6O5F+378/585rS3lCTc1obMzaeHB4aydM9vdncfXjKkJZ/39mVVa2NWdpcn445dSkWjt7zjoN92dh1JL1DU+etT6exdPStbl59TeYdm3H+ci8P0nf19mdxc13a6upTLBRyZHgkz+7vzabuIxkpM4oHAAAAmJ0E6QCvo76R0fzvjXtO+fz7N+894bFdvQPZ1XvykSLjSTZ2HcnGriNTjn1r674p+36492B+uPfgtM/1zIHDU0LmEz3PyRweHj3hdaYzNp5s6jqSTdPcx3ROVOsref1P9lwAAADAmcmMdAAAAAAAKEOQDgAAAAAAZQjSAQAAAACgDEE6AAAAAACUIUgHAAAAAIAyBOkAAAAAAFCGIB0AAAAAAMoQpAMAAAAAQBmCdAAAAAAAKEOQDgAAAAAAZQjSAQAAAACgDEE6AAAAAACUIUgHAAAAAIAyBOkAAAAAAFCGIB0AAAAAAMoQpAMAAAAAQBmCdAAAAAAAKEOQDgAAAAAAZQjSAQAAAACgDEE6AAAAAACUIUgHAAAAAIAyBOkAAAAAAFCGIB0AAAAAAMoQpAMAAAAAQBmCdAAAAAAAKEOQDgAAAAAAZQjSAQAAAACgDEE6AAAAAACUIUgHAAAAAIAyBOkAAAAAAFCGIB0AAAAAAMoQpAMAAAAAQBmCdAAAAAAAKKO60gXATCs1t6VrMGno6a90KQBwUl2DR9+7AAAAqBxBOmec9suuybd3lpKd2ytdCgCcglLaL7um0kUAAACc0QTpnHH2Pbou//1TN2TpynMrXQoAnNTOrZvzlUfXJbmh0qUAAACcsQTpnHGGe7vSVpssbKmvdCkAcFJ9tUffuwAAAKgci40CAAAAAEAZgnQAAAAAAChDkA4AAAAAAGUI0gEAAAAAoAxBOgAAAAAAlCFIBwAAAACAMgTpAAAAAABQhiAdAAAAAADKEKQDAAAAAEAZgnQAAAAAAChDkA4AAAAAAGUI0gEAAAAAoAxBOgAAAAAAlCFIBwAAAACAMgTpAAAAAABQRnWlCwAAAOCNpdTclp21rWksNFa6FAA4qZ21rSk1t1W6DGY5QToAAACTtF92Tf5Hx/srXQYAnJqOpP2yPZWugllOkA4AAMAk+x5dly+9aVHOnz+/0qUAwElt3L8/n3p0XZIbKl0Ks5ggHQAAgEmGe7uydLA7547XV7oUADipI4PdGe7tqnQZzHIWGwUAAAAAgDJ0pHNG2rl1S6VLgFlnaHAgnbteyIIlHamprat0OTBreM8CAACoPEE6Z5S2trbU19fnzi98ttKlAMApq6+vT1tbW6XLAAAAOGMJ0jmjLFmyJBs2bEhXl7lZ8FrbvHlzbr311vz1X/91zj333EqXA7NKW1tblixZUukyAAAAzliCdM44S5YsEUbA6+jcc8/N6tWrK10GAAAAwGvGYqMAAAAAAFBGxTrS169fnwceeCA9PT1Zvnx5fvmXfzmrVq2qVDkAAAAAADCtinSkP/LII7n33ntz3XXX5Y477sjy5cvzp3/6pzl48GAlygEAAAAAgBOqSEf6unXrctVVV+W9731vkuSWW27JE088kYcffjgf/vCHK1ESAAAAx9m0f3+lS4BZZ2BkJDt6erKspSV11Zatg9eK9yxmwoz/1h4ZGcnWrVsnBebFYjGrV6/Opk2bpn3M8PBwhoeHJ7YLhULq6+tT7U0HZrWBgYG88MILlS6DU9TT05NLLrkkPT092b59e6XL4RR0dHSkrq6u0mUA8AazdOnSvPOyy/K/tm1Ltm2rdDkAcEreedllWbp0aUqlUqVL4TTySvLlGU+iDx06lLGxsbS0tEza39LSkt27d0/7mH/6p3/KN77xjYntn/3Zn83nPve5tLa2vp6lAm8AHR0dlS6BV+BjH/tYpUsAAF6l9vb2PPL971e6DACAN5TToqX7Ix/5SK655ppJ+4aHh33DBPAG0t/fn9tvvz2333576uvrK10OAAC84fjMDHD6mvEgfc6cOSkWi+np6Zm0v6enZ0qX+ktKpZLQHOANbnx8PNu2bcv4+HilSwEAgDckn5kBTl/Fmb5gdXV1Vq5cmaeeempi39jYWJ566qmcd955M10OAAAAAACUVZHRLtdcc03uuuuurFy5MqtWrcpDDz2UwcHBXHnllZUoBwAAAAAATqgiQfrll1+eQ4cOZe3atenp6cmKFSvy+7//+ycc7QLAG1+pVMp1111nFBcAAJyAz8wAp6/CuMFcAAAAAABwQjM+Ix0AAAAAAE4ngnQAAAAAAChDkA4AAAAAAGUI0gGYFTo7O7NmzZps37690qUAAMDr4q677sqXvvSlSpcBcEaqrnQBALw6d911VzZs2JAbbrghH/7whyf2P/bYY/nKV76StWvXvm7X7uzszGc/+9kp+9/1rnflN37jN1636wIAwEx66TP3y331q1/NwoULK1ARADNNkA4wC5RKpdx///25+uqr09TUNOPX/4M/+IN0dHRMbNfU1Ew5Z3x8PGNjY6mqqprJ0gAA4DXxlre8Jb/2a782ad+cOXMmbY+MjKS6WtQCMBv57Q4wC6xevTovvvhi7rvvvnziE5+Y9pxHH300a9euzd69e9Pa2poPfvCDufbaayeO//qv/3quuuqq7N27N48++mgaGxvzi7/4i7n66qtPev3m5ua0tLRM2vf000/nj//4j/N7v/d7+frXv54dO3bktttuy7x583Lvvfdm8+bNGRgYyNKlS/Pxj388F1100cRj16xZk9/+7d/OpZdeOrHvk5/8ZD75yU/myiuvTJJs2bIlf/d3f5ddu3alo6MjH/3oR1/BKwYAAK9MdXX1lM+8t99+ezo6OlJVVZXvfve7WbZsWf7oj/4o69aty8MPP5zOzs40NTXlrW99az7xiU+krq4uSbJ27do8/vjj+fKXvzzxXA8++GAeeuih3HXXXUmSsbGx/MM//EMefvjhFIvF/NzP/VzGx8dn7H4BmEyQDjALFIvFfPzjH8+dd96ZD33oQ5k3b96k41u3bs1f/dVf5Zd+6Zdy+eWXZ9OmTbnnnnvS3Nw8EUwnybp16/Kxj30sH/3oR/Poo4/m7rvvzgUXXJDFixf/1LV97Wtfy0033ZQFCxakqakp+/fvzyWXXJLrr78+pVIpGzZsyB133JE777wz8+fPP6XnHBgYyJ//+Z/noosuyq233prOzs78/d///U9dIwAA/LQ2bNiQ97///fmTP/mTiX2FQiGf+tSnsmDBgnR2duaee+7JP/7jP+ZXf/VXT/l5H3jggXznO9/JZz7zmSxZsiTr1q3L448/ngsvvPD1uA0ATkKQDjBLXHrppVmxYkXWrl2bz3zmM5OOrVu3LqtXr851112XJFm8eHF27tyZf/7nf54UpF9yySX5wAc+kCT5hV/4hTz44IN56qmnThqk33bbbSkUChPbX/ziFyd+XrNmzaRu86ampqxYsWJi+/rrr8/jjz+e//iP/8gHP/jBU7rX733vexkfH8+nP/3p1NTUpKOjIwcOHMg999xzSo8HAIBX6oknnshNN900sX3JJZckSRYtWjTlr0J//ud/fuLnBQsW5Prrr8/dd9/9ioL0hx56KB/5yEfyjne8I0lyyy235Mc//vGruQUAXgVBOsAscuONN+aLX/zipJEtSbJr16687W1vm7Tv/PPPz4MPPpixsbEUi8UkyfLlyyeOFwqFtLS05NChQ0mSP/uzP8szzzyTJGlvb89f/uVfTpz7m7/5m1m6dOnE9rx587Jp06YkyTnnnDPpugMDA1m7dm1+9KMfpbu7O6OjoxkaGsr+/ftP+T537tyZZcuWTZrFft55553y4wEA4JW68MILc8stt0xs19bW5s4778zZZ5895dz/+q//yn333Zddu3alv78/o6OjGR4ezuDgYGpra096rb6+vnR3d2fVqlUT+6qqqrJy5UrjXQAqRJAOMItccMEFufjii/O1r31tUqf5qZpuIdCxsbEkyac//ekMDQ1Ne978+fOzcOHCaZ/z5f9QuPfee/Pkk0/mpptuysKFC1NTU5O/+Iu/yMjIyMQ5x3e3v2R0dPSV3QwAALyGamtrp/3M+9Lc85d0dnbmjjvuyPve975cf/31aWpqyrPPPpu/+Zu/ycjISGpraycaWY7n8y7AG9vU39wAnNZuvPHG/PCHP5zoCE+SJUuWZOPGjZPO27hxYxYvXjzth/jptLW1ZeHChVm4cGHa29t/6vo2btyYK664IpdeemmWLVuWlpaW7Nu3b9I5c+bMSXd398T2nj17Mjg4OLG9dOnS7NixYyLYT5LNmzf/1DUBAMBrZevWrRkbG8vNN9+c8847L4sXL5702TY5+nm3p6dnUnf59u3bJ35uaGhIa2trtmzZMrFvdHQ0W7dufd3rB2B6gnSAWWbZsmV597vfnW9+85sT+6655po8+eST+cY3vpHdu3fnO9/5TtavXz9lBMxMWLRoUR577LFs374927dvz5133jnlz1MvvPDCrF+/Ptu2bctzzz2Xu+++e1IX/Lve9a4kyd/+7d9m586deeKJJ/LAAw/M6H0AAMB0Fi5cmNHR0axfvz4vvvhi/u3f/i3f/va3J51zwQUX5NChQ7n//vuzd+/erF+/Pj/60Y8mnfOhD30o9913Xx577LHs2rUr99xzT/r6+mbyVgA4jiAdYBZas2bNpHB65cqV+a3f+q088sgj+fznP5+1a9dmzZo1P9X4l1fr5ptvTmNjY2677bbccccdufjii6fMlbz55pszf/78/OEf/mG++tWv5tprr500Iqauri6/+7u/mx07duR3fud38vWvfz033njjTN8KAABMsWLFitx88825//778/nPfz7f/e53c8MNN0w6Z+nSpfmVX/mVfOtb38oXvvCFbNmyZUqTy7XXXpv3vOc9ueuuu3Lbbbelvr4+b3/722fyVgA4TmHcKhUAAAAAAHBCOtIBAAAAAKAMQToAAAAAAJQhSAcAAAAAgDIE6QAAAAAAUIYgHQAAAAAAyhCkAwAAAABAGYJ0AAAAAAAoQ5AOAAAAAABlCNIBAAAAAKAMQToAAAAAAJQhSAcAAAAAgDIE6QAAAAAAUMb/B7jGGlrbmU5tAAAAAElFTkSuQmCC",
      "text/plain": [
       "<Figure size 1500x800 with 1 Axes>"
      ]
     },
     "metadata": {},
     "output_type": "display_data"
    }
   ],
   "source": [
    "import matplotlib.pyplot as plt\n",
    "import numpy as np\n",
    "\n",
    "# Prepare data for each class (assuming data['Class'] has values 0 and 1)\n",
    "amount_non_fraud = data['Amount'][data['Class'] == 0]\n",
    "amount_fraud = data['Amount'][data['Class'] == 1]\n",
    "\n",
    "# Create a figure and axis\n",
    "fig, ax = plt.subplots(figsize=(15, 8))\n",
    "\n",
    "# Plot box plot for each class\n",
    "box_plot = ax.boxplot([amount_non_fraud, amount_fraud], showmeans=True, patch_artist=True,\n",
    "                      meanline=True, positions=[0, 1], widths=0.6)\n",
    "\n",
    "# Customize colors\n",
    "colors = ['lightblue', 'lightcoral']\n",
    "for patch, color in zip(box_plot['boxes'], colors):\n",
    "    patch.set_facecolor(color)\n",
    "\n",
    "# Set x-ticks and labels\n",
    "plt.xticks([0, 1], ['Non-Fraud', 'Fraud'])\n",
    "ax.set_ylim(0, 500)\n",
    "ax.set_title('Amount Distribution')\n",
    "ax.set_xlabel('')\n",
    "\n",
    "# Calculate means and display them above the boxes\n",
    "means = data.groupby('Class')['Amount'].mean()\n",
    "vertical_offset = data['Amount'].mean() - 130  # offset from median for display\n",
    "\n",
    "for i, mean in enumerate(means):\n",
    "    ax.text(i, mean + vertical_offset, f'Mean: {round(mean, 2)}',\n",
    "            horizontalalignment='center', fontsize=14, color='white')\n",
    "\n",
    "# Adjust layout\n",
    "plt.tight_layout()\n",
    "plt.show()\n"
   ]
  },
  {
   "cell_type": "code",
   "execution_count": 36,
   "id": "7bb9e2c4",
   "metadata": {},
   "outputs": [
    {
     "data": {
      "image/png": "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",
      "text/plain": [
       "<Figure size 1000x800 with 2 Axes>"
      ]
     },
     "metadata": {},
     "output_type": "display_data"
    }
   ],
   "source": [
    "import matplotlib.pyplot as plt\n",
    "import numpy as np\n",
    "\n",
    "# Calculate correlation matrix\n",
    "corr = data.corr()\n",
    "\n",
    "# Create figure and axis\n",
    "fig, ax = plt.subplots(figsize=(10, 8))\n",
    "\n",
    "# Plot the heatmap using imshow\n",
    "cax = ax.imshow(corr, cmap='RdBu', vmin=-1, vmax=1)\n",
    "\n",
    "# Add color bar\n",
    "fig.colorbar(cax, ax=ax)\n",
    "\n",
    "# Set ticks and labels\n",
    "ax.set_xticks(np.arange(len(corr.columns)))\n",
    "ax.set_yticks(np.arange(len(corr.columns)))\n",
    "ax.set_xticklabels(corr.columns, rotation=90)\n",
    "ax.set_yticklabels(corr.columns)\n",
    "\n",
    "# Set a title\n",
    "ax.set_title('Correlation Heatmap')\n",
    "\n",
    "# Adjust layout for better fit\n",
    "plt.tight_layout()\n",
    "plt.show()\n"
   ]
  },
  {
   "cell_type": "code",
   "execution_count": 37,
   "id": "9e37098d",
   "metadata": {},
   "outputs": [
    {
     "data": {
      "text/plain": [
       "True"
      ]
     },
     "execution_count": 37,
     "metadata": {},
     "output_type": "execute_result"
    }
   ],
   "source": [
    "data.duplicated().any()"
   ]
  },
  {
   "cell_type": "code",
   "execution_count": 38,
   "id": "bd37109c",
   "metadata": {},
   "outputs": [],
   "source": [
    "data = data.drop_duplicates()"
   ]
  },
  {
   "cell_type": "markdown",
   "id": "72915a53",
   "metadata": {},
   "source": [
    "### Scaling the data\n",
   ]
  },
  {
   "cell_type": "code",
   "execution_count": 39,
   "id": "fd97c50a",
   "metadata": {},
   "outputs": [],
   "source": [
    "from sklearn.preprocessing import StandardScaler"
   ]
  },
  {
   "cell_type": "code",
   "execution_count": 40,
   "id": "e0ef480f",
   "metadata": {},
   "outputs": [],
   "source": [
    "import matplotlib.pyplot as plt\n",
    "plt.style.use('ggplot')"
   ]
  },
  {
   "cell_type": "code",
   "execution_count": 41,
   "id": "b2e2da62",
   "metadata": {},
   "outputs": [],
   "source": [
    "sc = StandardScaler()\n",
    "data['Amount'] = sc.fit_transform(pd.DataFrame(data['Amount']))"
   ]
  },
  {
   "cell_type": "code",
   "execution_count": 42,
   "id": "5fd45403",
   "metadata": {},
   "outputs": [],
   "source": [
    "data = data.drop(['Time'], axis =1)"
   ]
  },
  {
   "cell_type": "code",
   "execution_count": 43,
   "id": "09136712",
   "metadata": {},
   "outputs": [
    {
     "data": {
      "text/plain": [
       "(283726, 30)"
      ]
     },
     "execution_count": 43,
     "metadata": {},
     "output_type": "execute_result"
    }
   ],
   "source": [
    "data.shape"
   ]
  },
  {
   "cell_type": "code",
   "execution_count": 44,
   "id": "76754c2d",
   "metadata": {},
   "outputs": [
    {
     "data": {
      "text/html": [
       "<div>\n",
       "<style scoped>\n",
       "    .dataframe tbody tr th:only-of-type {\n",
       "        vertical-align: middle;\n",
       "    }\n",
       "\n",
       "    .dataframe tbody tr th {\n",
       "        vertical-align: top;\n",
       "    }\n",
       "\n",
       "    .dataframe thead th {\n",
       "        text-align: right;\n",
       "    }\n",
       "</style>\n",
       "<table border=\"1\" class=\"dataframe\">\n",
       "  <thead>\n",
       "    <tr style=\"text-align: right;\">\n",
       "      <th></th>\n",
       "      <th>V1</th>\n",
       "      <th>V2</th>\n",
       "      <th>V3</th>\n",
       "      <th>V4</th>\n",
       "      <th>V5</th>\n",
       "      <th>V6</th>\n",
       "      <th>V7</th>\n",
       "      <th>V8</th>\n",
       "      <th>V9</th>\n",
       "      <th>V10</th>\n",
       "      <th>...</th>\n",
       "      <th>V21</th>\n",
       "      <th>V22</th>\n",
       "      <th>V23</th>\n",
       "      <th>V24</th>\n",
       "      <th>V25</th>\n",
       "      <th>V26</th>\n",
       "      <th>V27</th>\n",
       "      <th>V28</th>\n",
       "      <th>Amount</th>\n",
       "      <th>Class</th>\n",
       "    </tr>\n",
       "  </thead>\n",
       "  <tbody>\n",
       "    <tr>\n",
       "      <th>0</th>\n",
       "      <td>-1.359807</td>\n",
       "      <td>-0.072781</td>\n",
       "      <td>2.536347</td>\n",
       "      <td>1.378155</td>\n",
       "      <td>-0.338321</td>\n",
       "      <td>0.462388</td>\n",
       "      <td>0.239599</td>\n",
       "      <td>0.098698</td>\n",
       "      <td>0.363787</td>\n",
       "      <td>0.090794</td>\n",
       "      <td>...</td>\n",
       "      <td>-0.018307</td>\n",
       "      <td>0.277838</td>\n",
       "      <td>-0.110474</td>\n",
       "      <td>0.066928</td>\n",
       "      <td>0.128539</td>\n",
       "      <td>-0.189115</td>\n",
       "      <td>0.133558</td>\n",
       "      <td>-0.021053</td>\n",
       "      <td>0.244200</td>\n",
       "      <td>0</td>\n",
       "    </tr>\n",
       "    <tr>\n",
       "      <th>1</th>\n",
       "      <td>1.191857</td>\n",
       "      <td>0.266151</td>\n",
       "      <td>0.166480</td>\n",
       "      <td>0.448154</td>\n",
       "      <td>0.060018</td>\n",
       "      <td>-0.082361</td>\n",
       "      <td>-0.078803</td>\n",
       "      <td>0.085102</td>\n",
       "      <td>-0.255425</td>\n",
       "      <td>-0.166974</td>\n",
       "      <td>...</td>\n",
       "      <td>-0.225775</td>\n",
       "      <td>-0.638672</td>\n",
       "      <td>0.101288</td>\n",
       "      <td>-0.339846</td>\n",
       "      <td>0.167170</td>\n",
       "      <td>0.125895</td>\n",
       "      <td>-0.008983</td>\n",
       "      <td>0.014724</td>\n",
       "      <td>-0.342584</td>\n",
       "      <td>0</td>\n",
       "    </tr>\n",
       "    <tr>\n",
       "      <th>2</th>\n",
       "      <td>-1.358354</td>\n",
       "      <td>-1.340163</td>\n",
       "      <td>1.773209</td>\n",
       "      <td>0.379780</td>\n",
       "      <td>-0.503198</td>\n",
       "      <td>1.800499</td>\n",
       "      <td>0.791461</td>\n",
       "      <td>0.247676</td>\n",
       "      <td>-1.514654</td>\n",
       "      <td>0.207643</td>\n",
       "      <td>...</td>\n",
       "      <td>0.247998</td>\n",
       "      <td>0.771679</td>\n",
       "      <td>0.909412</td>\n",
       "      <td>-0.689281</td>\n",
       "      <td>-0.327642</td>\n",
       "      <td>-0.139097</td>\n",
       "      <td>-0.055353</td>\n",
       "      <td>-0.059752</td>\n",
       "      <td>1.158900</td>\n",
       "      <td>0</td>\n",
       "    </tr>\n",
       "    <tr>\n",
       "      <th>3</th>\n",
       "      <td>-0.966272</td>\n",
       "      <td>-0.185226</td>\n",
       "      <td>1.792993</td>\n",
       "      <td>-0.863291</td>\n",
       "      <td>-0.010309</td>\n",
       "      <td>1.247203</td>\n",
       "      <td>0.237609</td>\n",
       "      <td>0.377436</td>\n",
       "      <td>-1.387024</td>\n",
       "      <td>-0.054952</td>\n",
       "      <td>...</td>\n",
       "      <td>-0.108300</td>\n",
       "      <td>0.005274</td>\n",
       "      <td>-0.190321</td>\n",
       "      <td>-1.175575</td>\n",
       "      <td>0.647376</td>\n",
       "      <td>-0.221929</td>\n",
       "      <td>0.062723</td>\n",
       "      <td>0.061458</td>\n",
       "      <td>0.139886</td>\n",
       "      <td>0</td>\n",
       "    </tr>\n",
       "    <tr>\n",
       "      <th>4</th>\n",
       "      <td>-1.158233</td>\n",
       "      <td>0.877737</td>\n",
       "      <td>1.548718</td>\n",
       "      <td>0.403034</td>\n",
       "      <td>-0.407193</td>\n",
       "      <td>0.095921</td>\n",
       "      <td>0.592941</td>\n",
       "      <td>-0.270533</td>\n",
       "      <td>0.817739</td>\n",
       "      <td>0.753074</td>\n",
       "      <td>...</td>\n",
       "      <td>-0.009431</td>\n",
       "      <td>0.798278</td>\n",
       "      <td>-0.137458</td>\n",
       "      <td>0.141267</td>\n",
       "      <td>-0.206010</td>\n",
       "      <td>0.502292</td>\n",
       "      <td>0.219422</td>\n",
       "      <td>0.215153</td>\n",
       "      <td>-0.073813</td>\n",
       "      <td>0</td>\n",
       "    </tr>\n",
       "  </tbody>\n",
       "</table>\n",
       "<p>5 rows × 30 columns</p>\n",
       "</div>"
      ],
      "text/plain": [
       "         V1        V2        V3        V4        V5        V6        V7  \\\n",
       "0 -1.359807 -0.072781  2.536347  1.378155 -0.338321  0.462388  0.239599   \n",
       "1  1.191857  0.266151  0.166480  0.448154  0.060018 -0.082361 -0.078803   \n",
       "2 -1.358354 -1.340163  1.773209  0.379780 -0.503198  1.800499  0.791461   \n",
       "3 -0.966272 -0.185226  1.792993 -0.863291 -0.010309  1.247203  0.237609   \n",
       "4 -1.158233  0.877737  1.548718  0.403034 -0.407193  0.095921  0.592941   \n",
       "\n",
       "         V8        V9       V10  ...       V21       V22       V23       V24  \\\n",
       "0  0.098698  0.363787  0.090794  ... -0.018307  0.277838 -0.110474  0.066928   \n",
       "1  0.085102 -0.255425 -0.166974  ... -0.225775 -0.638672  0.101288 -0.339846   \n",
       "2  0.247676 -1.514654  0.207643  ...  0.247998  0.771679  0.909412 -0.689281   \n",
       "3  0.377436 -1.387024 -0.054952  ... -0.108300  0.005274 -0.190321 -1.175575   \n",
       "4 -0.270533  0.817739  0.753074  ... -0.009431  0.798278 -0.137458  0.141267   \n",
       "\n",
       "        V25       V26       V27       V28    Amount  Class  \n",
       "0  0.128539 -0.189115  0.133558 -0.021053  0.244200      0  \n",
       "1  0.167170  0.125895 -0.008983  0.014724 -0.342584      0  \n",
       "2 -0.327642 -0.139097 -0.055353 -0.059752  1.158900      0  \n",
       "3  0.647376 -0.221929  0.062723  0.061458  0.139886      0  \n",
       "4 -0.206010  0.502292  0.219422  0.215153 -0.073813      0  \n",
       "\n",
       "[5 rows x 30 columns]"
      ]
     },
     "execution_count": 44,
     "metadata": {},
     "output_type": "execute_result"
    }
   ],
   "source": [
    "data.head()"
   ]
  },
  {
   "cell_type": "markdown",
   "id": "0b08c1ca",
   "metadata": {},
   "source": [
    "* There are no missing values;\n",
    "* All the columns contain only numeric values.\n",
    "* `Amount` is the only two features that have not been transformed.\n",
    "* `Time` axis is dropped. "
   ]
  },
  {
   "cell_type": "markdown",
   "id": "83d0575d",
   "metadata": {},
   "source": [
    "### Train Test Split"
   ]
  },
  {
   "cell_type": "code",
   "execution_count": 45,
   "id": "00e7de31",
   "metadata": {},
   "outputs": [
    {
     "data": {
      "text/plain": [
       "Class\n",
       "0    283253\n",
       "1       473\n",
       "Name: count, dtype: int64"
      ]
     },
     "execution_count": 45,
     "metadata": {},
     "output_type": "execute_result"
    }
   ],
   "source": [
    "data['Class'].value_counts()"
   ]
  },
  {
   "cell_type": "code",
   "execution_count": 46,
   "id": "6d7288bf",
   "metadata": {},
   "outputs": [],
   "source": [
    "X = data.drop('Class', axis = 1)\n",
    "y=data['Class']"
   ]
  },
  {
   "cell_type": "code",
   "execution_count": 47,
   "id": "e9bd1c54",
   "metadata": {},
   "outputs": [],
   "source": [
    "from sklearn.model_selection import train_test_split"
   ]
  },
  {
   "cell_type": "code",
   "execution_count": 48,
   "id": "12b80610",
   "metadata": {},
   "outputs": [],
   "source": [
    "X_train, X_test, y_train, y_test = train_test_split(X, y, test_size = 0.2, random_state = 42)"
   ]
  },
  {
   "cell_type": "code",
   "execution_count": 49,
   "id": "eae5233f",
   "metadata": {},
   "outputs": [],
   "source": [
    "import numpy as np\n",
    "from sklearn.linear_model import LogisticRegression\n",
    "from sklearn.tree import DecisionTreeClassifier\n",
    "from sklearn.metrics import accuracy_score, f1_score, precision_score, recall_score"
   ]
  },
  {
   "cell_type": "code",
   "execution_count": 50,
   "id": "0e1e2668",
   "metadata": {},
   "outputs": [
    {
     "name": "stdout",
     "output_type": "stream",
     "text": [
      "\n",
      "==========Logistic Regression===========\n",
      "\n",
      " Accuaracy: 0.9991717477883904\n",
      "\n",
      " Precision: 0.8909090909090909\n",
      "\n",
      " Recall: 0.5444444444444444\n",
      "\n",
      " F1 Score: 0.6758620689655171\n",
      "\n",
      "==========Decision Tree Classifier===========\n",
      "\n",
      " Accuaracy: 0.999066013463504\n",
      "\n",
      " Precision: 0.7032967032967034\n",
      "\n",
      " Recall: 0.7111111111111111\n",
      "\n",
      " F1 Score: 0.707182320441989\n"
     ]
    }
   ],
   "source": [
    "classifier = {\n",
    "    \"Logistic Regression\": LogisticRegression(),\n",
    "    \"Decision Tree Classifier\": DecisionTreeClassifier()\n",
    "}\n",
    "\n",
    "for name, clf in classifier.items():\n",
    "    print(f\"\\n=========={name}===========\")\n",
    "    clf.fit(X_train, y_train)\n",
    "    y_pred = clf.predict(X_test)\n",
    "    print(f\"\\n Accuaracy: {accuracy_score(y_test, y_pred)}\")\n",
    "    print(f\"\\n Precision: {precision_score(y_test, y_pred)}\")\n",
    "    print(f\"\\n Recall: {recall_score(y_test, y_pred)}\")\n",
    "    print(f\"\\n F1 Score: {f1_score(y_test, y_pred)}\")"
   ]
  },
  {
   "cell_type": "markdown",
   "id": "fd39cf54",
   "metadata": {},
   "source": [
    "### INFERENCE\n",
    "* As seen previously there is a implance in the dataset so, `accuracy` is a misleading metric.\n",
    "* `Logestic` Regression will not work as shown by the low recall which means there are a lot of false negetives.\n",
    "* `Decision` tree is a better model as it has a higher recall."
   ]
  },
  {
   "cell_type": "markdown",
   "id": "e8189cfe",
   "metadata": {},
   "source": [
    "Since there is an imbalance in the dataset we must use a imbalanced learning approach. \n",
    "Approaches : \n",
    "* `Undersampling`\n",
    "* `Oversampling`\n",
    "\n",
    "#### Undersampling"
   ]
  },
  {
   "cell_type": "code",
   "execution_count": 51,
   "id": "8967e8e1",
   "metadata": {},
   "outputs": [],
   "source": [
    "normal = data[data['Class']==0]\n",
    "fraud = data[data['Class']==1]"
   ]
  },
  {
   "cell_type": "code",
   "execution_count": 52,
   "id": "8c9c947b",
   "metadata": {},
   "outputs": [
    {
     "data": {
      "text/plain": [
       "(283253, 30)"
      ]
     },
     "execution_count": 52,
     "metadata": {},
     "output_type": "execute_result"
    }
   ],
   "source": [
    "normal.shape"
   ]
  },
  {
   "cell_type": "code",
   "execution_count": 53,
   "id": "9a9a5f80",
   "metadata": {},
   "outputs": [
    {
     "data": {
      "text/plain": [
       "(473, 30)"
      ]
     },
     "execution_count": 53,
     "metadata": {},
     "output_type": "execute_result"
    }
   ],
   "source": [
    "fraud.shape"
   ]
  },
  {
   "cell_type": "code",
   "execution_count": 54,
   "id": "9ee2a44f",
   "metadata": {},
   "outputs": [],
   "source": [
    "normal_sample = normal.sample(n=473)"
   ]
  },
  {
   "cell_type": "code",
   "execution_count": 55,
   "id": "8bf1a8d1",
   "metadata": {},
   "outputs": [
    {
     "data": {
      "text/plain": [
       "(473, 30)"
      ]
     },
     "execution_count": 55,
     "metadata": {},
     "output_type": "execute_result"
    }
   ],
   "source": [
    "normal_sample.shape"
   ]
  },
  {
   "cell_type": "code",
   "execution_count": 56,
   "id": "fb041ddb",
   "metadata": {},
   "outputs": [],
   "source": [
    "new_data = pd.concat([normal_sample,fraud], ignore_index=True)"
   ]
  },
  {
   "cell_type": "code",
   "execution_count": 57,
   "id": "7f10369f",
   "metadata": {},
   "outputs": [
    {
     "data": {
      "text/html": [
       "<div>\n",
       "<style scoped>\n",
       "    .dataframe tbody tr th:only-of-type {\n",
       "        vertical-align: middle;\n",
       "    }\n",
       "\n",
       "    .dataframe tbody tr th {\n",
       "        vertical-align: top;\n",
       "    }\n",
       "\n",
       "    .dataframe thead th {\n",
       "        text-align: right;\n",
       "    }\n",
       "</style>\n",
       "<table border=\"1\" class=\"dataframe\">\n",
       "  <thead>\n",
       "    <tr style=\"text-align: right;\">\n",
       "      <th></th>\n",
       "      <th>V1</th>\n",
       "      <th>V2</th>\n",
       "      <th>V3</th>\n",
       "      <th>V4</th>\n",
       "      <th>V5</th>\n",
       "      <th>V6</th>\n",
       "      <th>V7</th>\n",
       "      <th>V8</th>\n",
       "      <th>V9</th>\n",
       "      <th>V10</th>\n",
       "      <th>...</th>\n",
       "      <th>V21</th>\n",
       "      <th>V22</th>\n",
       "      <th>V23</th>\n",
       "      <th>V24</th>\n",
       "      <th>V25</th>\n",
       "      <th>V26</th>\n",
       "      <th>V27</th>\n",
       "      <th>V28</th>\n",
       "      <th>Amount</th>\n",
       "      <th>Class</th>\n",
       "    </tr>\n",
       "  </thead>\n",
       "  <tbody>\n",
       "    <tr>\n",
       "      <th>0</th>\n",
       "      <td>1.217424</td>\n",
       "      <td>0.077738</td>\n",
       "      <td>-0.071746</td>\n",
       "      <td>1.008438</td>\n",
       "      <td>0.393580</td>\n",
       "      <td>0.778753</td>\n",
       "      <td>-0.135921</td>\n",
       "      <td>0.263369</td>\n",
       "      <td>0.262801</td>\n",
       "      <td>0.078645</td>\n",
       "      <td>...</td>\n",
       "      <td>-0.142655</td>\n",
       "      <td>-0.235318</td>\n",
       "      <td>-0.200901</td>\n",
       "      <td>-1.168806</td>\n",
       "      <td>0.757614</td>\n",
       "      <td>-0.253137</td>\n",
       "      <td>0.029521</td>\n",
       "      <td>-0.009526</td>\n",
       "      <td>-0.349333</td>\n",
       "      <td>0</td>\n",
       "    </tr>\n",
       "    <tr>\n",
       "      <th>1</th>\n",
       "      <td>1.918751</td>\n",
       "      <td>0.574570</td>\n",
       "      <td>-1.155554</td>\n",
       "      <td>3.522116</td>\n",
       "      <td>0.977805</td>\n",
       "      <td>0.283074</td>\n",
       "      <td>0.358390</td>\n",
       "      <td>-0.138237</td>\n",
       "      <td>-1.238279</td>\n",
       "      <td>1.494885</td>\n",
       "      <td>...</td>\n",
       "      <td>0.227645</td>\n",
       "      <td>0.599550</td>\n",
       "      <td>0.007892</td>\n",
       "      <td>0.278993</td>\n",
       "      <td>0.205933</td>\n",
       "      <td>0.123645</td>\n",
       "      <td>-0.049759</td>\n",
       "      <td>-0.042577</td>\n",
       "      <td>-0.199492</td>\n",
       "      <td>0</td>\n",
       "    </tr>\n",
       "    <tr>\n",
       "      <th>2</th>\n",
       "      <td>2.009115</td>\n",
       "      <td>-0.131008</td>\n",
       "      <td>-1.014558</td>\n",
       "      <td>0.327446</td>\n",
       "      <td>-0.166386</td>\n",
       "      <td>-0.950685</td>\n",
       "      <td>0.060833</td>\n",
       "      <td>-0.173187</td>\n",
       "      <td>0.331628</td>\n",
       "      <td>0.252128</td>\n",
       "      <td>...</td>\n",
       "      <td>-0.234637</td>\n",
       "      <td>-0.600893</td>\n",
       "      <td>0.342193</td>\n",
       "      <td>0.067358</td>\n",
       "      <td>-0.354190</td>\n",
       "      <td>0.173750</td>\n",
       "      <td>-0.077201</td>\n",
       "      <td>-0.069658</td>\n",
       "      <td>-0.339030</td>\n",
       "      <td>0</td>\n",
       "    </tr>\n",
       "    <tr>\n",
       "      <th>3</th>\n",
       "      <td>-0.603548</td>\n",
       "      <td>-0.109171</td>\n",
       "      <td>1.912019</td>\n",
       "      <td>-2.711920</td>\n",
       "      <td>-0.806406</td>\n",
       "      <td>-0.451565</td>\n",
       "      <td>-0.245856</td>\n",
       "      <td>0.111332</td>\n",
       "      <td>-2.599170</td>\n",
       "      <td>1.006576</td>\n",
       "      <td>...</td>\n",
       "      <td>-0.427447</td>\n",
       "      <td>-0.911766</td>\n",
       "      <td>-0.131905</td>\n",
       "      <td>-0.073047</td>\n",
       "      <td>0.203217</td>\n",
       "      <td>-0.542929</td>\n",
       "      <td>0.290045</td>\n",
       "      <td>0.116223</td>\n",
       "      <td>-0.328327</td>\n",
       "      <td>0</td>\n",
       "    </tr>\n",
       "    <tr>\n",
       "      <th>4</th>\n",
       "      <td>2.068038</td>\n",
       "      <td>-0.065111</td>\n",
       "      <td>-1.094069</td>\n",
       "      <td>0.403484</td>\n",
       "      <td>-0.132764</td>\n",
       "      <td>-1.184281</td>\n",
       "      <td>0.167433</td>\n",
       "      <td>-0.318399</td>\n",
       "      <td>0.579088</td>\n",
       "      <td>0.080213</td>\n",
       "      <td>...</td>\n",
       "      <td>-0.296326</td>\n",
       "      <td>-0.727979</td>\n",
       "      <td>0.335953</td>\n",
       "      <td>-0.030307</td>\n",
       "      <td>-0.297304</td>\n",
       "      <td>0.200573</td>\n",
       "      <td>-0.072097</td>\n",
       "      <td>-0.061173</td>\n",
       "      <td>-0.349373</td>\n",
       "      <td>0</td>\n",
       "    </tr>\n",
       "  </tbody>\n",
       "</table>\n",
       "<p>5 rows × 30 columns</p>\n",
       "</div>"
      ],
      "text/plain": [
       "         V1        V2        V3        V4        V5        V6        V7  \\\n",
       "0  1.217424  0.077738 -0.071746  1.008438  0.393580  0.778753 -0.135921   \n",
       "1  1.918751  0.574570 -1.155554  3.522116  0.977805  0.283074  0.358390   \n",
       "2  2.009115 -0.131008 -1.014558  0.327446 -0.166386 -0.950685  0.060833   \n",
       "3 -0.603548 -0.109171  1.912019 -2.711920 -0.806406 -0.451565 -0.245856   \n",
       "4  2.068038 -0.065111 -1.094069  0.403484 -0.132764 -1.184281  0.167433   \n",
       "\n",
       "         V8        V9       V10  ...       V21       V22       V23       V24  \\\n",
       "0  0.263369  0.262801  0.078645  ... -0.142655 -0.235318 -0.200901 -1.168806   \n",
       "1 -0.138237 -1.238279  1.494885  ...  0.227645  0.599550  0.007892  0.278993   \n",
       "2 -0.173187  0.331628  0.252128  ... -0.234637 -0.600893  0.342193  0.067358   \n",
       "3  0.111332 -2.599170  1.006576  ... -0.427447 -0.911766 -0.131905 -0.073047   \n",
       "4 -0.318399  0.579088  0.080213  ... -0.296326 -0.727979  0.335953 -0.030307   \n",
       "\n",
       "        V25       V26       V27       V28    Amount  Class  \n",
       "0  0.757614 -0.253137  0.029521 -0.009526 -0.349333      0  \n",
       "1  0.205933  0.123645 -0.049759 -0.042577 -0.199492      0  \n",
       "2 -0.354190  0.173750 -0.077201 -0.069658 -0.339030      0  \n",
       "3  0.203217 -0.542929  0.290045  0.116223 -0.328327      0  \n",
       "4 -0.297304  0.200573 -0.072097 -0.061173 -0.349373      0  \n",
       "\n",
       "[5 rows x 30 columns]"
      ]
     },
     "execution_count": 57,
     "metadata": {},
     "output_type": "execute_result"
    }
   ],
   "source": [
    "new_data.head()"
   ]
  },
  {
   "cell_type": "code",
   "execution_count": 58,
   "id": "558e2eac",
   "metadata": {},
   "outputs": [
    {
     "data": {
      "text/plain": [
       "Class\n",
       "0    473\n",
       "1    473\n",
       "Name: count, dtype: int64"
      ]
     },
     "execution_count": 58,
     "metadata": {},
     "output_type": "execute_result"
    }
   ],
   "source": [
    "new_data['Class'].value_counts()"
   ]
  },
  {
   "cell_type": "code",
   "execution_count": 59,
   "id": "cb408c99",
   "metadata": {},
   "outputs": [],
   "source": [
    "X = new_data.drop('Class', axis = 1)\n",
    "y= new_data['Class']"
   ]
  },
  {
   "cell_type": "code",
   "execution_count": 60,
   "id": "c3346481",
   "metadata": {},
   "outputs": [],
   "source": [
    "X_train, X_test, y_train, y_test = train_test_split(X, y, test_size = 0.2, random_state = 42)"
   ]
  },
  {
   "cell_type": "code",
   "execution_count": 61,
   "id": "88bd9e28",
   "metadata": {},
   "outputs": [
    {
     "name": "stdout",
     "output_type": "stream",
     "text": [
      "\n",
      "==========Logistic Regression===========\n",
      "\n",
      " Accuaracy: 0.9421052631578948\n",
      "\n",
      " Precision: 0.9789473684210527\n",
      "\n",
      " Recall: 0.9117647058823529\n",
      "\n",
      " F1 Score: 0.9441624365482234\n",
      "\n",
      "==========Decision Tree Classifier===========\n",
      "\n",
      " Accuaracy: 0.8631578947368421\n",
      "\n",
      " Precision: 0.8584905660377359\n",
      "\n",
      " Recall: 0.8921568627450981\n",
      "\n",
      " F1 Score: 0.875\n"
     ]
    }
   ],
   "source": [
    "classifier = {\n",
    "    \"Logistic Regression\": LogisticRegression(),\n",
    "    \"Decision Tree Classifier\": DecisionTreeClassifier()\n",
    "}\n",
    "\n",
    "for name, clf in classifier.items():\n",
    "    print(f\"\\n=========={name}===========\")\n",
    "    clf.fit(X_train, y_train)\n",
    "    y_pred = clf.predict(X_test)\n",
    "    print(f\"\\n Accuaracy: {accuracy_score(y_test, y_pred)}\")\n",
    "    print(f\"\\n Precision: {precision_score(y_test, y_pred)}\")\n",
    "    print(f\"\\n Recall: {recall_score(y_test, y_pred)}\")\n",
    "    print(f\"\\n F1 Score: {f1_score(y_test, y_pred)}\")"
   ]
  },
  {
   "cell_type": "markdown",
   "id": "57e6f4cd",
   "metadata": {},
   "source": [
    "\n",
    "Logistic Regression is generally a better choice based on the provided metrics.\n",
    "\n",
    "* Precision: Logistic Regression has higher precision, meaning it generates fewer false positives. This is critical in fraud detection, as falsely flagging legitimate transactions can cause customer dissatisfaction and operational overhead.\n",
    "\n",
    "* F1 Score: Logistic Regression has a better F1 score, indicating it maintains a strong balance between precision and recall, which is crucial for detecting fraud accurately without overwhelming false positives.\n",
    "\n",
    "* Recall: While Decision Tree has slightly better recall, Logistic Regression’s high precision and balanced F1 score make it more reliable for minimizing both missed fraud cases and false alarms, key considerations in fraud detection.\n"
   ]
  },
  {
   "cell_type": "markdown",
   "id": "7f611657",
   "metadata": {},
   "source": [
    "#### Oversampling"
   ]
  },
  {
   "cell_type": "code",
   "execution_count": 62,
   "id": "23df54e4",
   "metadata": {},
   "outputs": [],
   "source": [
    "X = data.drop('Class', axis = 1)\n",
    "y= data['Class']"
   ]
  },
  {
   "cell_type": "code",
   "execution_count": 63,
   "id": "88445968",
   "metadata": {},
   "outputs": [
    {
     "data": {
      "text/plain": [
       "(283726, 29)"
      ]
     },
     "execution_count": 63,
     "metadata": {},
     "output_type": "execute_result"
    }
   ],
   "source": [
    "X.shape"
   ]
  },
  {
   "cell_type": "code",
   "execution_count": 64,
   "id": "62233c07",
   "metadata": {},
   "outputs": [
    {
     "data": {
      "text/plain": [
       "(283726,)"
      ]
     },
     "execution_count": 64,
     "metadata": {},
     "output_type": "execute_result"
    }
   ],
   "source": [
    "y.shape"
   ]
  },
  {
   "cell_type": "code",
   "execution_count": 65,
   "id": "9aeab5ec",
   "metadata": {},
   "outputs": [],
   "source": [
    "from imblearn.over_sampling import SMOTE"
   ]
  },
  {
   "cell_type": "code",
   "execution_count": 66,
   "id": "e042f66d",
   "metadata": {},
   "outputs": [],
   "source": [
    "X_res, y_res = SMOTE().fit_resample(X,y)"
   ]
  },
  {
   "cell_type": "code",
   "execution_count": 67,
   "id": "a19af13c",
   "metadata": {},
   "outputs": [
    {
     "data": {
      "text/plain": [
       "Class\n",
       "0    283253\n",
       "1    283253\n",
       "Name: count, dtype: int64"
      ]
     },
     "execution_count": 67,
     "metadata": {},
     "output_type": "execute_result"
    }
   ],
   "source": [
    "y_res.value_counts()"
   ]
  },
  {
   "cell_type": "code",
   "execution_count": 68,
   "id": "cb40cb35",
   "metadata": {},
   "outputs": [],
   "source": [
    "X_train, X_test, y_train, y_test = train_test_split(X_res, y_res, test_size = 0.2, random_state = 42)"
   ]
  },
  {
   "cell_type": "code",
   "execution_count": 69,
   "id": "75ecf057",
   "metadata": {},
   "outputs": [
    {
     "name": "stdout",
     "output_type": "stream",
     "text": [
      "\n",
      " Accuaracy: 0.9981995022153184\n",
      "\n",
      " Precision: 0.9975751612166365\n",
      "\n",
      " Recall: 0.9988388254543535\n",
      "\n",
      " F1 Score: 0.9982065934065933\n"
     ]
    }
   ],
   "source": [
    "decisionTree = DecisionTreeClassifier()\n",
    "\n",
    "decisionTree.fit(X_train, y_train)\n",
    "y_pred = decisionTree.predict(X_test)\n",
    "print(f\"\\n Accuaracy: {accuracy_score(y_test, y_pred)}\")\n",
    "print(f\"\\n Precision: {precision_score(y_test, y_pred)}\")\n",
    "print(f\"\\n Recall: {recall_score(y_test, y_pred)}\")\n",
    "print(f\"\\n F1 Score: {f1_score(y_test, y_pred)}\")"
   ]
  },
  {
   "cell_type": "markdown",
   "id": "33867e40",
   "metadata": {},
   "source": [
    "* `Accuracy` Extremely high at 99.82%, showing the model is highly effective in overall classification.\n",
    "* `Precision` High precision (99.76%) indicates very few false positives, essential for minimizing interruptions to legitimate customers.\n",
    "* `Recall` Recall of 99.88% is crucial, as it shows nearly all fraudulent cases are detected.\n",
    "* `F1 Score` The near-perfect F1 score (99.82%) suggests a well-balanced model, effectively managing both precision and recall.\n",
    "`Decision Tree` model with `oversampling` is highly suited for fraud detection, as it achieves a very high balance of precision and recall, which is ideal for accurately identifying fraud while minimizing false positives."
   ]
  },
  {
   "cell_type": "code",
   "execution_count": 80,
   "id": "539b0029",
   "metadata": {},
   "outputs": [
    {
     "name": "stdout",
     "output_type": "stream",
     "text": [
      "Fraud Transcation\n"
     ]
    }
   ],
   "source": [
    "i = 42\n",
    "if y_pred[i] == 0:\n",
    "    print(\"Prediction : Normal Transcation\")\n",
    "else:\n",
    "    print(\"Fraud Transcation\")"
   ]
  }
 ],
 "metadata": {
  "kernelspec": {
   "display_name": "Python 3",
   "language": "python",
   "name": "python3"
  },
  "language_info": {
   "codemirror_mode": {
    "name": "ipython",
    "version": 3
   },
   "file_extension": ".py",
   "mimetype": "text/x-python",
   "name": "python",
   "nbconvert_exporter": "python",
   "pygments_lexer": "ipython3",
   "version": "3.10.0"
  }
 },
 "nbformat": 4,
 "nbformat_minor": 5
}
